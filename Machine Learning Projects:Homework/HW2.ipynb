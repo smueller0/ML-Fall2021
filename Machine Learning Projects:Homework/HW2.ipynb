{
 "cells": [
  {
   "cell_type": "markdown",
   "metadata": {
    "id": "ud9I3UCTZzHl"
   },
   "source": [
    "# HW 2\n",
    "\n",
    "due Thursday Sep 16, at 11:59 pm. \n",
    "\n",
    "Keep the following in mind for all notebooks you develop:\n",
    "* Structure your notebook. \n",
    "* Use headings with meaningful levels in Markdown cells, and explain the questions each piece of code is to answer or the reason it is there.\n",
    "* Make sure your notebook can always be rerun from top to bottom.\n",
    "\n",
    "Provided Jupyter notbook includes several notes, documentation and examples followed by coding challenges. \n",
    "* This assignment will cover several aspects in Python programming. \n",
    "* Python documentation has many examples, you can run these examples in your own version of notebook.\n",
    "  1.   Data Structures | [tutorial](https://docs.python.org/3.8/tutorial/datastructures.html)\n",
    "  2.   Input/Output | [tutorial](https://docs.python.org/3.8/tutorial/inputoutput.html) \n",
    "  3.   Errors and Exceptions | [tutorial](https://docs.python.org/3.8/tutorial/errors.html) \n",
    "  4.   Numpy | [quickstart](https://numpy.org/devdocs/user/quickstart.html)\n",
    "\n",
    "\n",
    "* Follow [README.md](README.md) for homework submission instructions\n",
    "\n",
    "**NOTE** Please start working on this assignment as soon as possible. If you are a beginner in Python this might take a long time. The objective of this assignment is to help you learn python.**"
   ]
  },
  {
   "cell_type": "markdown",
   "metadata": {
    "id": "mvK8V9d207cN"
   },
   "source": [
    "## Data Structures\n",
    "\n",
    "### List\n",
    "List as it's name implies is a list data type. A list can contain similar or mixed types (including another list) of data. A list is implemented in different ways, example:"
   ]
  },
  {
   "cell_type": "code",
   "execution_count": 1,
   "metadata": {
    "id": "EmHU2sbc3VxI"
   },
   "outputs": [],
   "source": [
    "#Initialization of a list\n",
    "myfirstlist = list() #first way\n",
    "myfirstlist = [] #second way"
   ]
  },
  {
   "cell_type": "markdown",
   "metadata": {
    "id": "KndYpRLuIs1N"
   },
   "source": [
    "#### Section A\n",
    "In jupyter notebook environment, commands starting with the symbol % are magic commands or magic functions. %%timeit is one of such function. It basically gives you the speed of execution  of certain statement or blocks of codes. Example below:"
   ]
  },
  {
   "cell_type": "code",
   "execution_count": 2,
   "metadata": {
    "id": "Y_i3kCAP4MdS"
   },
   "outputs": [
    {
     "name": "stdout",
     "output_type": "stream",
     "text": [
      "68.9 ns ± 1.24 ns per loop (mean ± std. dev. of 7 runs, 10000000 loops each)\n"
     ]
    }
   ],
   "source": [
    "%%timeit\n",
    "myfirstlist = list()"
   ]
  },
  {
   "cell_type": "code",
   "execution_count": 3,
   "metadata": {
    "cellView": "code",
    "id": "WZ2MaiUPIDEL"
   },
   "outputs": [
    {
     "name": "stdout",
     "output_type": "stream",
     "text": [
      "20.1 ns ± 0.222 ns per loop (mean ± std. dev. of 7 runs, 10000000 loops each)\n"
     ]
    }
   ],
   "source": [
    "%%timeit \n",
    "myfirstlist = []"
   ]
  },
  {
   "cell_type": "markdown",
   "metadata": {
    "id": "C8QBeoCHJ8NP"
   },
   "source": [
    "**Q1: Based on above experiment which one is the fastest?**\n",
    "Write your answer in the markdown format in the cell below: "
   ]
  },
  {
   "cell_type": "markdown",
   "metadata": {
    "cellView": "form",
    "id": "X_8xEck4JZtn"
   },
   "source": [
    "    **A1:** The second execution is faster at a speed of 21.5 ns with +- 0.437 versus the execution above it at a speed of 67 ns wiht +- 1.25 ns."
   ]
  },
  {
   "cell_type": "markdown",
   "metadata": {},
   "source": [
    "#### Section B\n",
    "range() is one of the inbuilt functions in python. \n",
    "It is super handy to create a list of numbers that ranges from one value to another value. We can create a list of range of values in both ascending and descending order.\n",
    "\n",
    "Jupyter notebook has a quick way to review the documentation.  You have to add '?' before or after the function and run the cell. The following both are valid: ?range or range?, see example below:"
   ]
  },
  {
   "cell_type": "code",
   "execution_count": 4,
   "metadata": {
    "id": "Lgi8rQ6YJyn-"
   },
   "outputs": [],
   "source": [
    "?range"
   ]
  },
  {
   "cell_type": "markdown",
   "metadata": {},
   "source": [
    "Range takes 3 arguments, (start, end, step) as we have learned in the class. If you provide only one value eg. range(5), your default start is 0. "
   ]
  },
  {
   "cell_type": "code",
   "execution_count": 5,
   "metadata": {
    "id": "6FasyiRAKorh"
   },
   "outputs": [
    {
     "name": "stdout",
     "output_type": "stream",
     "text": [
      "[0, 1, 2, 3, 4]\n",
      "[5, 6, 7, 8, 9]\n",
      "[0, 2, 4, 6, 8, 10, 12, 14, 16, 18]\n"
     ]
    }
   ],
   "source": [
    "# lets create few lists with the help of range()\n",
    "list1 = list(range(5)) #Numbers from 0 t o 5 (but not 5, note end is exclusive)\n",
    "list2 = list(range(5, 10)) #Numbers from 5 to 10 (exclusive end)\n",
    "list3 = list(range(0, 20, 2)) # Even numbers from 0 to 20 (end is exclusive)\n",
    "\n",
    "print(list1)\n",
    "print(list2)\n",
    "print(list3)"
   ]
  },
  {
   "cell_type": "markdown",
   "metadata": {
    "id": "xZ4xMsKyNwF_"
   },
   "source": [
    "**Q2:  Complete the code**\n",
    "\n",
    "**A2:** Replace the question marks '?' with the right values in the code below"
   ]
  },
  {
   "cell_type": "code",
   "execution_count": 6,
   "metadata": {
    "id": "69LDjnF6N3D-"
   },
   "outputs": [
    {
     "name": "stdout",
     "output_type": "stream",
     "text": [
      "even440 :  [4, 6, 8, 10, 12, 14, 16, 18, 20, 22, 24, 26, 28, 30, 32, 34, 36, 38, 40]\n",
      "odd540 :  [5, 7, 9, 11, 13, 15, 17, 19, 21, 23, 25, 27, 29, 31, 33, 35, 37, 39]\n",
      "mof5 :  [25, 30, 35, 40, 45, 50, 55, 60, 65, 70, 75, 80, 85, 90, 95, 100]\n",
      "from10to0 :  [10, 9, 8, 7, 6, 5, 4, 3, 2, 1]\n"
     ]
    }
   ],
   "source": [
    "# even440 is a list of even numbers from 4 to 40 \n",
    "# being inclusive (must include 40 if 40 is even)\n",
    "even440 = list(range(4,42,2))\n",
    "print('even440 : ', even440)\n",
    "\n",
    "# odd540 is a list of odd numbers from 5 to 40\n",
    "# being inclusive (must include 40 if 40 is odd)\n",
    "odd540 = list(range(5,40,2))\n",
    "print('odd540 : ', odd540)# 1.1 DATA STRUCTURE\n",
    "\n",
    "# Complete the code a list of multiples of 5 from 25 to 100 \n",
    "# being inclusive (must include 100 if 100 is a multiple of 5) \n",
    "mof5 = list(range(25,101,5))\n",
    "print('mof5 : ', mof5)\n",
    "\n",
    "# list from 10 to 0 (must include 10 but not 0)\n",
    "from10to0 = list(range(10,0, -1))\n",
    "print('from10to0 : ', from10to0)"
   ]
  },
  {
   "cell_type": "markdown",
   "metadata": {},
   "source": [
    "#### Section C\n",
    "List has many methods implemented, and there are inbuilt functions (sorted, max, min ...) you can call on a list. In following example we create a random list using the 'random' module. The method we used here for list construction is called list comprehension"
   ]
  },
  {
   "cell_type": "code",
   "execution_count": 7,
   "metadata": {
    "id": "F6qYd9yzO2Iu"
   },
   "outputs": [
    {
     "name": "stdout",
     "output_type": "stream",
     "text": [
      "x : [68, 38, 71, 65, 23]\n",
      "sortedx : [23, 38, 65, 68, 71]\n",
      "sumofx : 265\n",
      "maxofx : 71\n",
      "minofx : 23\n",
      "length of x is : 5\n",
      "reversed of x is : [23, 65, 71, 38, 68]\n"
     ]
    }
   ],
   "source": [
    "import random\n",
    "random.seed(4347) #Do not change this seed\n",
    "\n",
    "x = [random.randint(0,100) for i in range(5)]\n",
    "print(f'x : {x}') # Note here we use f string, this was introduce in python 3.6x and it is very easier to work with\n",
    "\n",
    "sortedx = sorted(x)\n",
    "print(f'sortedx : {sortedx}')\n",
    "\n",
    "sumofx = sum(x)\n",
    "print(f'sumofx : {sumofx}')\n",
    "\n",
    "maxofx = max(x)\n",
    "print(f'maxofx : {maxofx}')\n",
    "\n",
    "minofx = min(x)\n",
    "print(f'minofx : {minofx}')\n",
    "\n",
    "lenofx = len(x)\n",
    "print(f'length of x is : {lenofx}')\n",
    "\n",
    "revofx = list(reversed(x))\n",
    "print(f'reversed of x is : {revofx}')"
   ]
  },
  {
   "cell_type": "markdown",
   "metadata": {},
   "source": [
    "If you type ```x``` in a cell and wait you see a list of available methods; if nothing appears press ```ctrl+space```.  We recommend that you play with all methods. Try to see how each of them works by reading the documentation. You now know the trick to open documentation using '?'"
   ]
  },
  {
   "cell_type": "code",
   "execution_count": 8,
   "metadata": {
    "id": "sfwMFN92Po6x"
   },
   "outputs": [],
   "source": [
    "x?"
   ]
  },
  {
   "cell_type": "markdown",
   "metadata": {},
   "source": [
    "The following code prints all the methods that are implemented for List"
   ]
  },
  {
   "cell_type": "code",
   "execution_count": 9,
   "metadata": {
    "id": "C7Miev2YPrBu"
   },
   "outputs": [
    {
     "name": "stdout",
     "output_type": "stream",
     "text": [
      "['__add__', '__class__', '__contains__', '__delattr__', '__delitem__', '__dir__', '__doc__', '__eq__', '__format__', '__ge__', '__getattribute__', '__getitem__', '__gt__', '__hash__', '__iadd__', '__imul__', '__init__', '__init_subclass__', '__iter__', '__le__', '__len__', '__lt__', '__mul__', '__ne__', '__new__', '__reduce__', '__reduce_ex__', '__repr__', '__reversed__', '__rmul__', '__setattr__', '__setitem__', '__sizeof__', '__str__', '__subclasshook__', 'append', 'clear', 'copy', 'count', 'extend', 'index', 'insert', 'pop', 'remove', 'reverse', 'sort']\n"
     ]
    }
   ],
   "source": [
    "print(dir(list)) # ignore the detail here"
   ]
  },
  {
   "cell_type": "markdown",
   "metadata": {},
   "source": [
    "Methods that starts with ```'__'``` are called dunder methods (or magic methods) and they are special methods. They are also refered to as data models, and we will use them later in the class. "
   ]
  },
  {
   "cell_type": "code",
   "execution_count": 10,
   "metadata": {
    "id": "0NIWr0znPrPi",
    "scrolled": true
   },
   "outputs": [
    {
     "name": "stdout",
     "output_type": "stream",
     "text": [
      "['append', 'clear', 'copy', 'count', 'extend', 'index', 'insert', 'pop', 'remove', 'reverse', 'sort']\n"
     ]
    }
   ],
   "source": [
    "print([*filter(lambda x:not x.startswith('__'),dir(list))]) # ignore the detail here"
   ]
  },
  {
   "cell_type": "markdown",
   "metadata": {
    "id": "Dl8MK1wHUmMV"
   },
   "source": [
    "**Q3:** Based on what you have learned from above. Experiment with ```sort()``` list method and python generic ```sorted(<list>)``` method and explain the difference."
   ]
  },
  {
   "cell_type": "code",
   "execution_count": 11,
   "metadata": {
    "id": "jFVHszC7QWeU"
   },
   "outputs": [
    {
     "name": "stdout",
     "output_type": "stream",
     "text": [
      "[23, 38, 65, 68, 71]\n"
     ]
    }
   ],
   "source": [
    "# Code goes here for comparing sort() and sorted()\n",
    "# Note you can add multiple code cell if you want\n",
    "sorted(x)\n",
    "x.sort()\n",
    "print(x)"
   ]
  },
  {
   "cell_type": "markdown",
   "metadata": {},
   "source": [
    "**A3**: sorted(list) prints a sorted version of the original list, while list.sort() will sort the original list and not print it. When you call the list after sort it, it will remain sorted."
   ]
  },
  {
   "cell_type": "markdown",
   "metadata": {},
   "source": [
    "**Q4:** Create a random list 'x' of size 25?"
   ]
  },
  {
   "cell_type": "code",
   "execution_count": 12,
   "metadata": {},
   "outputs": [],
   "source": [
    "#A4: Code goes here for creating a random list of size 25\n",
    "\n",
    "x = [random.randint(0,100) for i in range(25)]"
   ]
  },
  {
   "cell_type": "markdown",
   "metadata": {},
   "source": [
    "#### Section D\n",
    "One of the important things to learn is about indexing of the list. List index starts from 0.\n",
    "If you write x[0], it means you are refering to first item of list, and x[-1] means you are indexing last item of the list. But there are more way you can index a list, e.g. in following way x[start:end:step]."
   ]
  },
  {
   "cell_type": "code",
   "execution_count": 13,
   "metadata": {
    "id": "ltgAFGT5UPHz"
   },
   "outputs": [
    {
     "name": "stdout",
     "output_type": "stream",
     "text": [
      "x : [26, 18, 23, 18, 15, 16, 6, 69, 3, 81, 47, 68, 80, 93, 21, 66, 13, 37, 98, 49, 56, 53, 88, 9, 13]\n",
      "x from 2 to 5 : [23, 18, 15]\n",
      "x from 2 to 25 with step 3 : [23, 16, 3, 68, 21, 37, 56, 9]\n",
      "last member of x : 13\n"
     ]
    }
   ],
   "source": [
    "# Now you are capable of creating a random list, study following examples \n",
    "print(f'x : {x}')\n",
    "print(f'x from 2 to 5 : {x[2:5]}')\n",
    "print(f'x from 2 to 25 with step 3 : {x[2:25:3]}')\n",
    "print(f'last member of x : {x[-1]}')"
   ]
  },
  {
   "cell_type": "markdown",
   "metadata": {
    "id": "EJIswf2UZCrJ"
   },
   "source": [
    "**Q5:** Based on the cell above, Which answer is correct:\n",
    "1.List index start and end values are inclusive\"\n",
    "2. List index start and end are non-inclusive\n",
    "3. Start is inclusive end is not\n",
    "4. End is inclusive start is not\n",
    "**A5:** \n",
    "\n",
    "3. Start is inclusive, end is not"
   ]
  },
  {
   "cell_type": "markdown",
   "metadata": {},
   "source": [
    "**Q6:** Without using the reversed() function, reverse 'x' with the help of indexing"
   ]
  },
  {
   "cell_type": "code",
   "execution_count": 14,
   "metadata": {
    "id": "a6PYHzHPYODY"
   },
   "outputs": [
    {
     "name": "stdout",
     "output_type": "stream",
     "text": [
      "[13, 9, 88, 53, 56, 49, 98, 37, 13, 66, 21, 93, 80, 68, 47, 81, 3, 69, 6, 16, 15, 18, 23, 18, 26]\n"
     ]
    }
   ],
   "source": [
    "# A6 code goes here\n",
    "print(x[::-1])"
   ]
  },
  {
   "cell_type": "markdown",
   "metadata": {},
   "source": [
    "**Q7** Imagine 'listoflist' is a list containing many lists What may listoflist[3][8] refer to?\n",
    "**A7**: explain here\n",
    "\n",
    "\n",
    "listoflist[3][8] would refer to the 4th lists 9th element. "
   ]
  },
  {
   "cell_type": "code",
   "execution_count": 15,
   "metadata": {
    "id": "yo5q8JdQaynf"
   },
   "outputs": [
    {
     "name": "stdout",
     "output_type": "stream",
     "text": [
      "71\n"
     ]
    }
   ],
   "source": [
    "listoflist = [x]\n",
    "x = [random.randint(0,100) for i in range(10)]\n",
    "listoflist = listoflist + [x]\n",
    "x = [random.randint(0,100) for i in range(10)]\n",
    "listoflist = listoflist + [x]\n",
    "x = [random.randint(0,100) for i in range(10)]\n",
    "listoflist = listoflist + [x]\n",
    "x = [random.randint(0,100) for i in range(10)]\n",
    "listoflist = listoflist + [x]\n",
    "print(listoflist[3][8])#leave this print as it is"
   ]
  },
  {
   "cell_type": "markdown",
   "metadata": {
    "id": "5zDnj4TBuPKq"
   },
   "source": [
    "### Tuple\n",
    "\n",
    "Tuple is an immutable data structure in python, similar to the list. Please do research in the mutable and immutable nature of data structures in python. Immutability offers performance advantages over mutable data structures. Once a tuple is assigned with some values it is fixed. A tuple can be initialized in following ways."
   ]
  },
  {
   "cell_type": "code",
   "execution_count": 16,
   "metadata": {
    "id": "tQJkY4PeuS9n"
   },
   "outputs": [],
   "source": [
    "# Please do some research to learn more about tuples.\n",
    "x = tuple()\n",
    "x = ()"
   ]
  },
  {
   "cell_type": "markdown",
   "metadata": {
    "id": "wqmeLN4Fu0QN"
   },
   "source": [
    "**Q8** Creating a Pandas dataframe using list of tuples. Use four different columns in the ```dataframe[Name,Country,Age,Salary]```. Give atleast five tuples as data. Use Pandas dataframe ```constructor(pd.DataFrame(data, columns)``` for creating the dataframe."
   ]
  },
  {
   "cell_type": "code",
   "execution_count": 17,
   "metadata": {
    "id": "cDI3AWr2u1wh"
   },
   "outputs": [
    {
     "name": "stdout",
     "output_type": "stream",
     "text": [
      "       Name   Country  Age  Salary\n",
      "0      Josh   America   29  120000\n",
      "1  Jennifer   England   40   90000\n",
      "2   Cinthya    Mexico   28  200000\n",
      "3   Valeria  Colombia   38  100000\n",
      "4    Jaylen   America   30  150000\n"
     ]
    }
   ],
   "source": [
    "# A8: Your code goes here\n",
    "import pandas as pd\n",
    "\n",
    "data = [('Josh', 'America', 29, 120000),\n",
    "       ('Jennifer', 'England', 40, 90000),\n",
    "       ('Cinthya', 'Mexico', 28, 200000),\n",
    "       ('Valeria', 'Colombia', 38, 100000),\n",
    "       ('Jaylen', 'America', 30, 150000)]\n",
    "\n",
    "tup = pd.DataFrame(data, columns =['Name', 'Country', 'Age', 'Salary'])\n",
    "\n",
    "print(tup)"
   ]
  },
  {
   "cell_type": "markdown",
   "metadata": {
    "id": "F6GSjRDOwO2k"
   },
   "source": [
    "### Set\n",
    "Set is a mutable data structure\n",
    "Set corresponds to set as in math\n",
    "A list allows repeated elements but set does not\n",
    "Set has methods built in for set operations like\n",
    "Intersection, Union, Set Difference and others\n",
    "A list can be converted into set by calling set(x)"
   ]
  },
  {
   "cell_type": "code",
   "execution_count": 18,
   "metadata": {
    "id": "RxuzXqcuwRV1"
   },
   "outputs": [
    {
     "name": "stdout",
     "output_type": "stream",
     "text": [
      "randlist : [5, 9, 8, 0, 8, 0, 3, 5, 3, 1, 1, 8, 7, 2, 9, 0, 2, 7, 0, 6]\n",
      "setfromrandlist : {0, 1, 2, 3, 5, 6, 7, 8, 9}\n"
     ]
    }
   ],
   "source": [
    "# Initializing set\n",
    "import random\n",
    "from random import randrange #import this to create a random list\n",
    "random.seed()\n",
    "\n",
    "x = set()\n",
    "\n",
    "randlist = [randrange(0,10) for i in range(20)]\n",
    "print(f'randlist : {randlist}')\n",
    "\n",
    "setfromrandlist = set(randlist)\n",
    "print(f'setfromrandlist : {setfromrandlist}')"
   ]
  },
  {
   "cell_type": "code",
   "execution_count": 19,
   "metadata": {
    "id": "SUgig_GSxtdO"
   },
   "outputs": [
    {
     "name": "stdout",
     "output_type": "stream",
     "text": [
      "a : {2, 35, 5, 37, 39, 40, 8, 7, 43, 13, 46, 15, 16, 17, 21, 25, 29}\n",
      "b : {32, 36, 6, 39, 40, 41, 9, 42, 46, 47, 48, 17, 20, 22, 23, 25, 28}\n"
     ]
    }
   ],
   "source": [
    "# Fundamental Set operations\n",
    "a = set([randrange(0,50) for i in range(20)])\n",
    "b = set([randrange(0,50) for i in range(20)])\n",
    "\n",
    "print(f'a : {a}')\n",
    "print(f'b : {b}')"
   ]
  },
  {
   "cell_type": "code",
   "execution_count": 20,
   "metadata": {
    "id": "Z5XIn6RdyGbt"
   },
   "outputs": [
    {
     "name": "stdout",
     "output_type": "stream",
     "text": [
      "union : {2, 5, 6, 7, 8, 9, 13, 15, 16, 17, 20, 21, 22, 23, 25, 28, 29, 32, 35, 36, 37, 39, 40, 41, 42, 43, 46, 47, 48}\n",
      "intersection : {39, 40, 46, 17, 25}\n",
      "difference : {2, 35, 37, 5, 7, 8, 43, 13, 15, 16, 21, 29}\n"
     ]
    }
   ],
   "source": [
    "union = a.union(b)\n",
    "intersection = a.intersection(b)\n",
    "difference = a.difference(b)\n",
    "\n",
    "print(f'union : {union}')\n",
    "print(f'intersection : {intersection}')\n",
    "print(f'difference : {difference}')"
   ]
  },
  {
   "cell_type": "markdown",
   "metadata": {
    "id": "OsK2y-J4zI2R"
   },
   "source": [
    "**Lowest Common Multiple (LCM) math problem**: lowest common multiple of numbers is the minimum of the intersection of their multiples. For (2,3), ```multipleof3 = {3,6,9,12,15,...}```, ```multipleof2 = {2,4,6,8,10,12,...}```, ```commonmultiple = {6, 12, ...}```. \n",
    "LCM is minimum of commonmultiple that is 6."
   ]
  },
  {
   "cell_type": "markdown",
   "metadata": {
    "id": "JnKIMj9M0-wO"
   },
   "source": [
    "**Q9**: Find the LCM of 8, 9 and 12 (use the set and list concepts).\n"
   ]
  },
  {
   "cell_type": "code",
   "execution_count": 21,
   "metadata": {
    "id": "fXaqkaJK1OTS"
   },
   "outputs": [
    {
     "name": "stdout",
     "output_type": "stream",
     "text": [
      "{72}\n"
     ]
    }
   ],
   "source": [
    "# A9 Your code goes here\n",
    "multipleof8 = set(range(8,89,8))\n",
    "multipleof9 = set(range(9,100,9))\n",
    "multipleof12 = set(range(12,145,12))\n",
    "intersection89 = multipleof8.intersection(multipleof9)\n",
    "intersection8912 = intersection89.intersection(multipleof12)\n",
    "print(intersection8912)"
   ]
  },
  {
   "cell_type": "markdown",
   "metadata": {
    "id": "Hyx13Z9312pX"
   },
   "source": [
    "### Dictionary\n",
    "Dictionary holds key value pairs\n",
    "Values can be accessed by using keys\n",
    "Lets see few of the ways to create a dictionary:"
   ]
  },
  {
   "cell_type": "code",
   "execution_count": 22,
   "metadata": {
    "id": "tVngjFf12EhS"
   },
   "outputs": [
    {
     "name": "stdout",
     "output_type": "stream",
     "text": [
      "a : {'a': 1, 'b': 2, 'c': 3, 'd': 4}\n",
      "b : {'a': 1, 'b': 2, 'c': 3, 'd': 4}\n",
      "c : {'a': 1, 'b': 2, 'c': 3, 'd': 4}\n",
      "d : {'a': 1, 'b': 2, 'c': 3, 'd': 4}\n",
      "1\n"
     ]
    }
   ],
   "source": [
    "a = {'a':1, 'b':2, 'c':3, 'd':4}\n",
    "print(f'a : {a}')\n",
    "\n",
    "b = dict(zip(['a','b','c','d'], [1,2,3,4]))\n",
    "print(f'b : {b}')\n",
    "\n",
    "c = dict(iter([('a',1),('b',2),('c',3),('d',4)]))\n",
    "print(f'c : {c}')\n",
    "\n",
    "d = dict(a=1, b=2, c=3, d=4)\n",
    "print(f'd : {d}')\n",
    "\n",
    "# Accessing values using keys in dictionary\n",
    "print(d['a'])#getting values corresponding to key a"
   ]
  },
  {
   "cell_type": "markdown",
   "metadata": {},
   "source": [
    "Following example is how we define a very simple function:\n",
    "```getfrom(dictionary,keys)``` is a function that returns a value given a key and a dictionary as arguments. "
   ]
  },
  {
   "cell_type": "code",
   "execution_count": 23,
   "metadata": {
    "id": "DF1XLiI_38cy"
   },
   "outputs": [],
   "source": [
    "# A very simple function\n",
    "def getfrom(dictionary, keys):\n",
    "  values = dictionary[keys]\n",
    "  return values"
   ]
  },
  {
   "cell_type": "code",
   "execution_count": 24,
   "metadata": {
    "id": "jzNiEq9o39B9"
   },
   "outputs": [
    {
     "name": "stdout",
     "output_type": "stream",
     "text": [
      "values correspoding to a is 1\n"
     ]
    }
   ],
   "source": [
    "# lets use this function to get values corresponding to key 'a' from dictionary 'd'\n",
    "values = getfrom(dictionary=d, keys='a')\n",
    "print(f'values correspoding to a is {values}')"
   ]
  },
  {
   "cell_type": "code",
   "execution_count": 25,
   "metadata": {
    "id": "qXgv0qMJQFpn",
    "scrolled": true
   },
   "outputs": [],
   "source": [
    "# Try to access 'z' which is not in 'd'\n",
    "#values = getfrom(dictionary=d, keys = 'z')\n",
    "#print(f'values correspoding to z is {values}')\n",
    "#commented out because of the error thats given!"
   ]
  },
  {
   "cell_type": "markdown",
   "metadata": {
    "id": "Fr7hwyI_QSBU"
   },
   "source": [
    "The error is called a key error!\n",
    "List, like dictionary, has different methods implemented: ```'clear', 'copy', 'fromkeys',...```\n",
    "Use one of the built-in dictionary methods to accomplish following task:"
   ]
  },
  {
   "cell_type": "markdown",
   "metadata": {
    "id": "MIJsvBWQQtkf"
   },
   "source": [
    "**Q10**: Complete the function, so that if you don't have a key return 999."
   ]
  },
  {
   "cell_type": "code",
   "execution_count": 26,
   "metadata": {
    "id": "t3v334OqQ48Y"
   },
   "outputs": [
    {
     "name": "stdout",
     "output_type": "stream",
     "text": [
      "999\n"
     ]
    }
   ],
   "source": [
    "# A10: Code goes here\n",
    "def getfrom(dictionary, keys):\n",
    "    if keys in dictionary.keys():\n",
    "        values = dictionary[keys]\n",
    "    else:\n",
    "        values = 999\n",
    "    return values #should return 999 if key doesn't exist\n",
    "print(getfrom(dictionary=d, keys='z'))"
   ]
  },
  {
   "cell_type": "markdown",
   "metadata": {
    "id": "PyRzo22mRV_q"
   },
   "source": [
    "**Q11**: Complete the function, so that if you don't have a key then the code returns 999 and adds 999 to dictionary."
   ]
  },
  {
   "cell_type": "code",
   "execution_count": 27,
   "metadata": {
    "id": "FIm1FWgWReCt"
   },
   "outputs": [
    {
     "name": "stdout",
     "output_type": "stream",
     "text": [
      "999\n",
      "999\n"
     ]
    }
   ],
   "source": [
    "# Code goes here\n",
    "\n",
    "def getfrom(dictionary, keys):\n",
    "    if keys in dictionary.keys():\n",
    "        values = dictionary[keys]\n",
    "    \n",
    "    else:\n",
    "        values = 999 #complete your code here\n",
    "        dictionary[keys] = values\n",
    "        \n",
    "    return values #should return 999 if key doesn't exist and should add to dictionary as well\n",
    "\n",
    "print(getfrom(dictionary=d, keys='z'))\n",
    "\n",
    "# Now this shouldn't throw error as 'z' is now set to dictionary\n",
    "print(d['z'])"
   ]
  },
  {
   "cell_type": "markdown",
   "metadata": {
    "id": "MrEq_OEwpTJ7"
   },
   "source": [
    "## Numpy"
   ]
  },
  {
   "cell_type": "markdown",
   "metadata": {},
   "source": [
    "Study the given publicly available numpy exercises notebook file and complete the given code. (Note you don't have to go through all notebook, just focus on things you need). Please refer to following amazing notebook [excersizes](https://github.com/rougier/numpy-100/blob/master/100_Numpy_exercises.ipynb). This notebook will give you fundamental understanding of numpy. Based on few examples on above notebook answer the follwing questions. "
   ]
  },
  {
   "cell_type": "markdown",
   "metadata": {
    "id": "6gI0upgtRDij"
   },
   "source": [
    "**Q12**: Create two random numpy array of size 10, 10 ```array1 = ?```. Now we have our list x to discover methods implemented there is a technique if you type x. in a cell and wait you see list of methods if you nothing appears press ```ctrl+space```. You are suggested to play with few methods, if possible all methods. Try to see how it works by reading documentation ...\n",
    "And now you now know the tricks to open documentation using '?'"
   ]
  },
  {
   "cell_type": "code",
   "execution_count": 28,
   "metadata": {
    "id": "8cg3z4yofn46"
   },
   "outputs": [],
   "source": [
    "import numpy as np\n",
    "# Create two random numpy array of size 10, 10\n",
    "array1 = np.random.randint(50, size = (10,10)) # now we have our list x\n",
    "array2 = np.random.randint(50, size = (10,10))\n",
    "\n",
    "#print(array1)\n",
    "#print(array2)\n",
    "#Perform simple matrix addition\n",
    "add12 = np.add(array1, array2)\n",
    "#print(add12)\n",
    "# Perform matrix multiplication between these two numpy array\n",
    "mm12 = array1 @ array2\n",
    "#print(mm12)\n",
    "# Perform element wise multiplication between these two array\n",
    "mmelement = array1 * array2\n",
    "#print(mmelement)\n",
    "## Calculate mean, standard deviation and variance of mm12\n",
    "mean = np.mean(mm12)\n",
    "#print(mean)\n",
    "std = np.std(mm12)\n",
    "#print(std)\n",
    "var = np.var(mm12)\n",
    "#print(var)"
   ]
  },
  {
   "cell_type": "markdown",
   "metadata": {},
   "source": [
    "## Submission Instructions\n",
    "\n",
    "1. select the 'Kernel' menu and choose 'Restart and Run All'.  This will also help you test requirement (2) above: that the notebook can be rerun from top to bottom.\n",
    "2. Save the notebook. Your submitted notebook **must include results**.  \n",
    "3. Copy it to your local ML/NetID.git repo \n",
    "   ```\n",
    "   git add HW2.ipynb\n",
    "   git commit -m \"HW2 submission\"\n",
    "   git push origin\n",
    "   ```\n",
    "   OR upload to `HW2.ipynb` file to https://git.txstate.edu/ML/<NetID>.git"
   ]
  }
 ],
 "metadata": {
  "colab": {
   "collapsed_sections": [],
   "name": "Copy of HW2.ipynb",
   "provenance": []
  },
  "interpreter": {
   "hash": "16b88d1544610203bb70d520ead802a3025078c96a9e1f003faf94069083abfd"
  },
  "kernelspec": {
   "display_name": "Python 3",
   "language": "python",
   "name": "python3"
  },
  "language_info": {
   "codemirror_mode": {
    "name": "ipython",
    "version": 3
   },
   "file_extension": ".py",
   "mimetype": "text/x-python",
   "name": "python",
   "nbconvert_exporter": "python",
   "pygments_lexer": "ipython3",
   "version": "3.8.8"
  }
 },
 "nbformat": 4,
 "nbformat_minor": 1
}
