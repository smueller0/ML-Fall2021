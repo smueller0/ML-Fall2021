{
 "cells": [
  {
   "cell_type": "markdown",
   "metadata": {},
   "source": [
    "# HW 4\n",
    "\n",
    "This assignment covers several aspects of Linear Regresstion. \n",
    "**DO NOT ERASE MARKDOWN CELLS AND INSTRUCTIONS IN YOUR HW submission**\n",
    "\n",
    "  * **Q** - QUESTION\n",
    "  * **A** - Where to input your answer\n",
    "\n",
    "## Instructions\n",
    "\n",
    "Keep the following in mind for all notebooks you develop:\n",
    "* Structure your notebook. \n",
    "* Use headings with meaningful levels in Markdown cells, and explain the questions each piece of code is to answer or the reason it is there.\n",
    "* Make sure your notebook can always be rerun from top to bottom.\n",
    "* Please start working on this assignment as soon as possible. If you are a beginner in Python this might take a long time. One of the objectives of this assignment is to help you learn python and scikit-learn package. \n",
    "* Follow [README.md](README.md) for homework submission instructions\n",
    "\n",
    "\n",
    "## Tutorials\n",
    "\n",
    "* [scikit-learn linear model](https://scikit-learn.org/stable/modules/linear_model.html)\n",
    "* [train-test-split](https://towardsdatascience.com/train-test-split-and-cross-validation-in-python-80b61beca4b6)\n",
    "* [least squares fitting](https://python4mpia.github.io/fitting_data/least-squares-fitting.html)\n"
   ]
  },
  {
   "cell_type": "markdown",
   "metadata": {
    "id": "Xywj2VETsyKa"
   },
   "source": [
    "# REGRESSION TASK USING SKLEARN\n",
    "\n",
    "In jupyter notebook environment, commands starting with the symbol % are magic commands or magic functions. ```%%timeit``` is one of such function. It basically gives you the speed of execution  of certain statement or blocks of codes."
   ]
  },
  {
   "cell_type": "code",
   "execution_count": 1,
   "metadata": {},
   "outputs": [],
   "source": [
    "import pandas as pd\n",
    "import numpy as np\n",
    "import seaborn as sns"
   ]
  },
  {
   "cell_type": "code",
   "execution_count": 2,
   "metadata": {
    "id": "PaRE7u7Btrea"
   },
   "outputs": [
    {
     "name": "stdout",
     "output_type": "stream",
     "text": [
      "HW1.ipynb       HW3.ipynb       auto-mpg.data   day.csv\r\n",
      "HW2.ipynb       HW4.ipynb       auto-mpg.names  git\r\n"
     ]
    }
   ],
   "source": [
    "# Lets see what we have in our directory\n",
    "%ls"
   ]
  },
  {
   "cell_type": "markdown",
   "metadata": {},
   "source": [
    "**Data ** Get the exploratory data and the folowwing files:      \n",
    "https://archive.ics.uci.edu/ml/machine-learning-databases/auto-mpg/auto-mpg.data\n",
    "https://archive.ics.uci.edu/ml/machine-learning-databases/auto-mpg/auto-mpg.names\n",
    "* Link should automatically download the data\n",
    "* copy them in your HW folder\n",
    "\n",
    "* If you are using command line: \n",
    "```>> wget https://archive.ics.uci.edu/ml/machine-learning-databases/auto-mpg/auto-mpg.data```\n",
    "  * If wget is not working \n",
    "    * dowload it from [link](https://eternallybored.org/misc/wget/) \n",
    "    * follow [steps](https://stackoverflow.com/questions/29113456/wget-not-recognized-as-internal-or-external-command)"
   ]
  },
  {
   "cell_type": "code",
   "execution_count": 3,
   "metadata": {
    "id": "4bQuc4z6uBum",
    "scrolled": false
   },
   "outputs": [
    {
     "name": "stdout",
     "output_type": "stream",
     "text": [
      "HW1.ipynb       HW3.ipynb       auto-mpg.data   day.csv\r\n",
      "HW2.ipynb       HW4.ipynb       auto-mpg.names  git\r\n"
     ]
    }
   ],
   "source": [
    "# Lets see our folder again\n",
    "%ls"
   ]
  },
  {
   "cell_type": "markdown",
   "metadata": {},
   "source": [
    "**Q1** Read the data using pandas, and replace the ??? in the code cell below to accomplish this taks. Note that auto-mpg.data does not have the column headers. use auto-mpg.names file to provide column names to the dataframe. \n",
    "\n",
    "**A1** "
   ]
  },
  {
   "cell_type": "code",
   "execution_count": 4,
   "metadata": {
    "id": "jM-tqtgluM8q"
   },
   "outputs": [],
   "source": [
    "# Replace ??? with code in the code cell below\n",
    "column_names = [ \n",
    "        'mpg'\n",
    "    ,  'cylinders'\n",
    "    ,  'displacement'\n",
    "    ,  'horsepower'\n",
    "    ,  'weight'\n",
    "    ,  'acceleration'\n",
    "    ,  'model_year'\n",
    "    ,  'origin'\n",
    "    ,  'car_name']\n",
    "\n",
    "df = pd.read_csv('auto-mpg.data', names=column_names, na_values = \"?\", comment='\\t',sep=\" \", skipinitialspace=True)"
   ]
  },
  {
   "cell_type": "code",
   "execution_count": 5,
   "metadata": {},
   "outputs": [
    {
     "data": {
      "text/html": [
       "<div>\n",
       "<style scoped>\n",
       "    .dataframe tbody tr th:only-of-type {\n",
       "        vertical-align: middle;\n",
       "    }\n",
       "\n",
       "    .dataframe tbody tr th {\n",
       "        vertical-align: top;\n",
       "    }\n",
       "\n",
       "    .dataframe thead th {\n",
       "        text-align: right;\n",
       "    }\n",
       "</style>\n",
       "<table border=\"1\" class=\"dataframe\">\n",
       "  <thead>\n",
       "    <tr style=\"text-align: right;\">\n",
       "      <th></th>\n",
       "      <th>mpg</th>\n",
       "      <th>cylinders</th>\n",
       "      <th>displacement</th>\n",
       "      <th>horsepower</th>\n",
       "      <th>weight</th>\n",
       "      <th>acceleration</th>\n",
       "      <th>model_year</th>\n",
       "      <th>origin</th>\n",
       "      <th>car_name</th>\n",
       "    </tr>\n",
       "  </thead>\n",
       "  <tbody>\n",
       "    <tr>\n",
       "      <th>0</th>\n",
       "      <td>18.0</td>\n",
       "      <td>8</td>\n",
       "      <td>307.0</td>\n",
       "      <td>130.0</td>\n",
       "      <td>3504.0</td>\n",
       "      <td>12.0</td>\n",
       "      <td>70</td>\n",
       "      <td>1</td>\n",
       "      <td>NaN</td>\n",
       "    </tr>\n",
       "    <tr>\n",
       "      <th>1</th>\n",
       "      <td>15.0</td>\n",
       "      <td>8</td>\n",
       "      <td>350.0</td>\n",
       "      <td>165.0</td>\n",
       "      <td>3693.0</td>\n",
       "      <td>11.5</td>\n",
       "      <td>70</td>\n",
       "      <td>1</td>\n",
       "      <td>NaN</td>\n",
       "    </tr>\n",
       "    <tr>\n",
       "      <th>2</th>\n",
       "      <td>18.0</td>\n",
       "      <td>8</td>\n",
       "      <td>318.0</td>\n",
       "      <td>150.0</td>\n",
       "      <td>3436.0</td>\n",
       "      <td>11.0</td>\n",
       "      <td>70</td>\n",
       "      <td>1</td>\n",
       "      <td>NaN</td>\n",
       "    </tr>\n",
       "    <tr>\n",
       "      <th>3</th>\n",
       "      <td>16.0</td>\n",
       "      <td>8</td>\n",
       "      <td>304.0</td>\n",
       "      <td>150.0</td>\n",
       "      <td>3433.0</td>\n",
       "      <td>12.0</td>\n",
       "      <td>70</td>\n",
       "      <td>1</td>\n",
       "      <td>NaN</td>\n",
       "    </tr>\n",
       "    <tr>\n",
       "      <th>4</th>\n",
       "      <td>17.0</td>\n",
       "      <td>8</td>\n",
       "      <td>302.0</td>\n",
       "      <td>140.0</td>\n",
       "      <td>3449.0</td>\n",
       "      <td>10.5</td>\n",
       "      <td>70</td>\n",
       "      <td>1</td>\n",
       "      <td>NaN</td>\n",
       "    </tr>\n",
       "  </tbody>\n",
       "</table>\n",
       "</div>"
      ],
      "text/plain": [
       "    mpg  cylinders  displacement  horsepower  weight  acceleration  \\\n",
       "0  18.0          8         307.0       130.0  3504.0          12.0   \n",
       "1  15.0          8         350.0       165.0  3693.0          11.5   \n",
       "2  18.0          8         318.0       150.0  3436.0          11.0   \n",
       "3  16.0          8         304.0       150.0  3433.0          12.0   \n",
       "4  17.0          8         302.0       140.0  3449.0          10.5   \n",
       "\n",
       "   model_year  origin  car_name  \n",
       "0          70       1       NaN  \n",
       "1          70       1       NaN  \n",
       "2          70       1       NaN  \n",
       "3          70       1       NaN  \n",
       "4          70       1       NaN  "
      ]
     },
     "execution_count": 5,
     "metadata": {},
     "output_type": "execute_result"
    }
   ],
   "source": [
    "# View head of the data to confirm the correctness of your answer\n",
    "df.head()"
   ]
  },
  {
   "cell_type": "markdown",
   "metadata": {},
   "source": [
    "## Data cleaning and manipulation"
   ]
  },
  {
   "cell_type": "markdown",
   "metadata": {},
   "source": [
    "Use\n",
    "\n",
    "**Q2** Data cleaning and manipulation: \n",
    "1. use ```pandas.info()``` method to find columns with large number of NaN values\n",
    "2. remove the column with NaN values\n",
    "3. Check if there are still NaN values in the dataframe using ```isna()``` method\n",
    "\n",
    "**A2** Replace ??? with code in the code cell below"
   ]
  },
  {
   "cell_type": "code",
   "execution_count": 6,
   "metadata": {},
   "outputs": [
    {
     "data": {
      "text/html": [
       "<div>\n",
       "<style scoped>\n",
       "    .dataframe tbody tr th:only-of-type {\n",
       "        vertical-align: middle;\n",
       "    }\n",
       "\n",
       "    .dataframe tbody tr th {\n",
       "        vertical-align: top;\n",
       "    }\n",
       "\n",
       "    .dataframe thead th {\n",
       "        text-align: right;\n",
       "    }\n",
       "</style>\n",
       "<table border=\"1\" class=\"dataframe\">\n",
       "  <thead>\n",
       "    <tr style=\"text-align: right;\">\n",
       "      <th></th>\n",
       "      <th>mpg</th>\n",
       "      <th>cylinders</th>\n",
       "      <th>displacement</th>\n",
       "      <th>weight</th>\n",
       "      <th>acceleration</th>\n",
       "      <th>model_year</th>\n",
       "      <th>origin</th>\n",
       "    </tr>\n",
       "  </thead>\n",
       "  <tbody>\n",
       "    <tr>\n",
       "      <th>0</th>\n",
       "      <td>18.0</td>\n",
       "      <td>8</td>\n",
       "      <td>307.0</td>\n",
       "      <td>3504.0</td>\n",
       "      <td>12.0</td>\n",
       "      <td>70</td>\n",
       "      <td>1</td>\n",
       "    </tr>\n",
       "    <tr>\n",
       "      <th>1</th>\n",
       "      <td>15.0</td>\n",
       "      <td>8</td>\n",
       "      <td>350.0</td>\n",
       "      <td>3693.0</td>\n",
       "      <td>11.5</td>\n",
       "      <td>70</td>\n",
       "      <td>1</td>\n",
       "    </tr>\n",
       "    <tr>\n",
       "      <th>2</th>\n",
       "      <td>18.0</td>\n",
       "      <td>8</td>\n",
       "      <td>318.0</td>\n",
       "      <td>3436.0</td>\n",
       "      <td>11.0</td>\n",
       "      <td>70</td>\n",
       "      <td>1</td>\n",
       "    </tr>\n",
       "    <tr>\n",
       "      <th>3</th>\n",
       "      <td>16.0</td>\n",
       "      <td>8</td>\n",
       "      <td>304.0</td>\n",
       "      <td>3433.0</td>\n",
       "      <td>12.0</td>\n",
       "      <td>70</td>\n",
       "      <td>1</td>\n",
       "    </tr>\n",
       "    <tr>\n",
       "      <th>4</th>\n",
       "      <td>17.0</td>\n",
       "      <td>8</td>\n",
       "      <td>302.0</td>\n",
       "      <td>3449.0</td>\n",
       "      <td>10.5</td>\n",
       "      <td>70</td>\n",
       "      <td>1</td>\n",
       "    </tr>\n",
       "  </tbody>\n",
       "</table>\n",
       "</div>"
      ],
      "text/plain": [
       "    mpg  cylinders  displacement  weight  acceleration  model_year  origin\n",
       "0  18.0          8         307.0  3504.0          12.0          70       1\n",
       "1  15.0          8         350.0  3693.0          11.5          70       1\n",
       "2  18.0          8         318.0  3436.0          11.0          70       1\n",
       "3  16.0          8         304.0  3433.0          12.0          70       1\n",
       "4  17.0          8         302.0  3449.0          10.5          70       1"
      ]
     },
     "execution_count": 6,
     "metadata": {},
     "output_type": "execute_result"
    }
   ],
   "source": [
    "#1. use pandas.info() method to find columns with large number of NaN values\n",
    "df.isna().sum()\n",
    "\n",
    "#2. remove the column with NaN values - replace ??? with code\n",
    "df = df.dropna(axis=1)\n",
    "# Print head\n",
    "df.head()\n",
    "\n",
    "#3. Check if there are still NaN values in the dataframe using ```isna()``` method - replace ??? with code \n",
    "df.isna().sum()\n",
    "# drop if any left or replace Nan values\n",
    "df = df.dropna(axis=1)\n",
    "#Print head\n",
    "df.head()"
   ]
  },
  {
   "cell_type": "markdown",
   "metadata": {
    "id": "AXFcOu-sD8Bm"
   },
   "source": [
    "**Q3:** \n",
    "1. Convert following columns 'cylinders', 'year', 'origin'  to dummy variable using pandas get_dummies() function\n",
    "2. Do data normalization on real value/continous columns\n",
    "   * The formula for normalization is: (Col_value- Mean of the col)/ Standard Deviation of the col\n",
    "\n",
    "**A3** Replace ??? with code in the code cell below"
   ]
  },
  {
   "cell_type": "markdown",
   "metadata": {},
   "source": [
    "## Regression Task"
   ]
  },
  {
   "cell_type": "code",
   "execution_count": 7,
   "metadata": {
    "id": "gEDmsPJwxIZx"
   },
   "outputs": [],
   "source": [
    "# 1. Convert following columns 'cylinders', 'year', 'origin'  to dummy variable using pandas get_dummies() function\n",
    "cols = df.copy()\n",
    "df_dummies = pd.get_dummies(cols, columns = ['cylinders', 'model_year', 'origin'])\n",
    "\n",
    "#show the head\n",
    "df_dummies.head()\n",
    "\n",
    "# 2. Do data normalization on real value/continous columns\n",
    "realcols = cols.copy()\n",
    "\n",
    "for col in realcols:\n",
    " mean = df[col].mean()\n",
    " std = df[col].std()\n",
    " df[col] = mean/std"
   ]
  },
  {
   "cell_type": "markdown",
   "metadata": {},
   "source": [
    "Given all the information we will try to predict mpg - miles per gallon. The First step toward predicting the mpg from the dataset is to find the correlation between the columns/features of the dataset.  "
   ]
  },
  {
   "cell_type": "markdown",
   "metadata": {},
   "source": [
    "**Q4** \n",
    "1. Use heatmap chart from seaborn library to findout the correlation between the columns.\n",
    "2. Which of the columns is mostly related to mpg column and why?"
   ]
  },
  {
   "cell_type": "code",
   "execution_count": 8,
   "metadata": {},
   "outputs": [
    {
     "data": {
      "text/plain": [
       "<AxesSubplot:>"
      ]
     },
     "execution_count": 8,
     "metadata": {},
     "output_type": "execute_result"
    },
    {
     "data": {
      "image/png": "[encoded data removed]",
      "text/plain": [
       "<Figure size 432x288 with 2 Axes>"
      ]
     },
     "metadata": {
      "needs_background": "light"
     },
     "output_type": "display_data"
    }
   ],
   "source": [
    "# A4 code goes below\n",
    "sns.heatmap(cols.corr(), cmap=\"YlGnBu\", annot=True)"
   ]
  },
  {
   "cell_type": "markdown",
   "metadata": {},
   "source": [
    "**A4**  \n",
    "The column most related to mpg is the model_year, this number at the intersection is the closest to +1 at 0.58. With the origin close behind. "
   ]
  },
  {
   "cell_type": "markdown",
   "metadata": {},
   "source": [
    "**Q5** \n",
    "1. Draw a lineplot or scattered plot between mpg and your answer from the above cell. \n",
    "2. Use pairplot from sns to plot our data frame df for better understanding of your selection \n",
    "   * NOTE: 2. should inform 3.\n",
    "3. Choose a set of columns which are significantly related to our goal. \n",
    "   * Justify your answer using some explanation from the correlation chart above.\n",
    "   * HINT: Refer to the newspaper radio TV example from the class slides\n",
    "\n",
    "**A5**  For 1. and 2. replace ??? with code in the code cell below.  "
   ]
  },
  {
   "cell_type": "code",
   "execution_count": 9,
   "metadata": {
    "scrolled": true
   },
   "outputs": [
    {
     "data": {
      "text/plain": [
       "<seaborn.axisgrid.PairGrid at 0x1241a1970>"
      ]
     },
     "execution_count": 9,
     "metadata": {},
     "output_type": "execute_result"
    },
    {
     "data": {
      "image/png": "[encoded data removed]",
      "text/plain": [
       "<Figure size 432x288 with 1 Axes>"
      ]
     },
     "metadata": {
      "needs_background": "light"
     },
     "output_type": "display_data"
    },
    {
     "data": {
      "image/png": "[encoded data removed]",
      "text/plain": [
       "<Figure size 360x360 with 6 Axes>"
      ]
     },
     "metadata": {
      "needs_background": "light"
     },
     "output_type": "display_data"
    }
   ],
   "source": [
    "# 1. Draw a lineplot or scattered plot between mpg and your answer from the above cell.\n",
    "sns.scatterplot(x = \"mpg\", y = \"model_year\", data = cols)\n",
    "# 2. Use pairplot from sns to plot our data frame df for better understanding of your selection \n",
    "sns.pairplot(cols, vars = ['mpg', 'model_year'])"
   ]
  },
  {
   "cell_type": "markdown",
   "metadata": {},
   "source": [
    "**A5**  Model_year is chosen as the column from the correltation chart above. This is because the column with the highest positive number closest to 1 is the one most correlated to the goal we are looking at. In this case we are looking at MPG and the closest number and correlated to it would be thr Model_year."
   ]
  },
  {
   "cell_type": "markdown",
   "metadata": {},
   "source": [
    "## Data Preparation"
   ]
  },
  {
   "cell_type": "markdown",
   "metadata": {},
   "source": [
    "**Q6** Assign mpg column value to y and rest columns to x, remember x shouldn't have mpg\n",
    "\n",
    "**A6** Replace ??? with code in the code cell below"
   ]
  },
  {
   "cell_type": "code",
   "execution_count": 10,
   "metadata": {
    "id": "N7h7ez6-y6gM"
   },
   "outputs": [],
   "source": [
    "y = df.mpg\n",
    "df.drop(['mpg'], axis=1)\n",
    "x = df.drop(['mpg'], axis=1)"
   ]
  },
  {
   "cell_type": "markdown",
   "metadata": {},
   "source": [
    "**Q7** Use train_test_split to split the data set as train:test=(80%:20%) ratio.\n",
    "\n",
    "**A7** Replace ??? with code in the code cell below"
   ]
  },
  {
   "cell_type": "code",
   "execution_count": 11,
   "metadata": {
    "id": "Pdo3hgPnzKzj"
   },
   "outputs": [
    {
     "data": {
      "text/plain": [
       "((318, 6), (80, 6), (318,), (80,))"
      ]
     },
     "execution_count": 11,
     "metadata": {},
     "output_type": "execute_result"
    }
   ],
   "source": [
    "from sklearn.model_selection import train_test_split\n",
    "\n",
    "xtrain, xtest, ytrain, ytest = train_test_split(x, y, test_size = 0.2)\n",
    "# View the shape of your data set\n",
    "xtrain.shape, xtest.shape, ytrain.shape, ytest.shape"
   ]
  },
  {
   "cell_type": "markdown",
   "metadata": {},
   "source": [
    "**Q8** Follow examples from references given in the top of this notebook  \n",
    "* Note:Use linear model to fit regression line and plot  \n",
    "* Our linear model will be of following type  \n",
    "* Y = b + coef0*x0 + coef1*x1+coef2*x2+............  \n",
    "\n",
    "**A8:** Replace ??? with code in the code cell below"
   ]
  },
  {
   "cell_type": "code",
   "execution_count": 12,
   "metadata": {
    "id": "GHm6D6oIzcCU"
   },
   "outputs": [
    {
     "name": "stdout",
     "output_type": "stream",
     "text": [
      "[0. 0. 0. 0. 0. 0.]\n",
      "3.0085235491730917\n",
      "6\n"
     ]
    }
   ],
   "source": [
    "from sklearn import linear_model\n",
    "\n",
    "reg = linear_model.LinearRegression() \n",
    "reg.fit(x,y)\n",
    "\n",
    "#Now view the coefficient use .coef_ and shape of .coef_\n",
    "print(reg.coef_)\n",
    "print(reg.intercept_)\n",
    "print(reg.coef_.shape[0])"
   ]
  },
  {
   "cell_type": "markdown",
   "metadata": {},
   "source": [
    "**Q8** Relates to the code in the cell below. Why the printed values the same?"
   ]
  },
  {
   "cell_type": "code",
   "execution_count": 13,
   "metadata": {},
   "outputs": [
    {
     "name": "stdout",
     "output_type": "stream",
     "text": [
      "6,6,  are equal? True\n"
     ]
    }
   ],
   "source": [
    "# Now if you view \n",
    "print(f'{reg.coef_.shape[0]},{xtrain.shape[1]}, ', f'are equal? {reg.coef_.shape[0]==xtrain.shape[1]}')"
   ]
  },
  {
   "cell_type": "markdown",
   "metadata": {},
   "source": [
    "**A8** \n",
    "The shape of the coefficient of the linear regression is the same as the shape of the train data for x. This is because there should be the same  number of columns in x as there are coefficients in the equation. They are coefficients of X."
   ]
  },
  {
   "cell_type": "markdown",
   "metadata": {},
   "source": [
    "## Model Scoring"
   ]
  },
  {
   "cell_type": "code",
   "execution_count": 14,
   "metadata": {
    "id": "g8k65QkO0k9b"
   },
   "outputs": [
    {
     "data": {
      "text/plain": [
       "(1.0, 1.0)"
      ]
     },
     "execution_count": 14,
     "metadata": {},
     "output_type": "execute_result"
    }
   ],
   "source": [
    "# Model Score \n",
    "from sklearn import linear_model\n",
    "reg = linear_model.LinearRegression()\n",
    "reg.fit(xtrain, ytrain)\n",
    "reg.score(xtest,ytest)\n",
    "\n",
    "# Calculate the score on train and test sets\n",
    "# Your code goes below\n",
    "reg.score(xtrain,ytrain), reg.score(xtest,ytest)"
   ]
  },
  {
   "cell_type": "markdown",
   "metadata": {},
   "source": [
    "**Q9**  Each of the sklearn models have different model evaluations core value.  \n",
    "* LinearRegression [documentation](https://scikit-learn.org/stable/modules/generated/sklearn.linear_model.LinearRegression.html)\n",
    "* More on [model_evaluation](https://scikit-learn.org/stable/modules/model_evaluation.html)\n",
    "\n",
    "Explain what's the meaning of reg.score return value in this notebook. \n",
    "\n",
    "**A9**\n",
    "Reg.score tests the predicted value with the true value given. In this case test and train data. it calculates how off the score it from each other. 1.0 being the best score it can recieve. Using the equation (1-(u/v)) where u is the true data minus the predict sum of squares and v is the true data minus the mean sum of squares."
   ]
  },
  {
   "cell_type": "code",
   "execution_count": 15,
   "metadata": {
    "id": "G7TCgkBJ2e1q"
   },
   "outputs": [
    {
     "name": "stdout",
     "output_type": "stream",
     "text": [
      "1.0 1.0\n"
     ]
    }
   ],
   "source": [
    "# A custom function to calculate r2 score\n",
    "# Details on the custom scorers: https://scikit-learn.org/stable/modules/model_evaluation.html\n",
    "\n",
    "def r2score(ytrue, ypred):\n",
    "  rss = ((ytrue - ypred)**2).sum()\n",
    "  tss = ((ytrue - ytrue.mean()) ** 2).sum()\n",
    "  r2 = 1 - rss/tss\n",
    "  return r2\n",
    "\n",
    "# Now do prediction on xtrain and xtest and check your r2 score by printing rescore values \n",
    "trainpredict = reg.predict(xtrain)\n",
    "testpredict = reg.predict(xtest)\n",
    "\n",
    "print(r2score(ytrain, trainpredict), r2score(ytest, testpredict))\n",
    "\n",
    "# You can see that reg.score values and your custom function output are matched"
   ]
  },
  {
   "cell_type": "markdown",
   "metadata": {},
   "source": [
    "One way of achieving linear regression is by minimizing the error between actual y and predicted y. The method is known as least square method.  We will make our custom least square optimize to calculate model parameters that minimizes output error.   "
   ]
  },
  {
   "cell_type": "markdown",
   "metadata": {},
   "source": [
    "**Q10** Write a function which takes weights(or params), x and y and do following\n",
    "* 1. calculate dot product between x and params , which is ypredicted\n",
    "* 2. calculate difference between actual y and ypredicted\n",
    "* 3. return the difference\n",
    "\n",
    "**A10** complete the code below"
   ]
  },
  {
   "cell_type": "code",
   "execution_count": 21,
   "metadata": {
    "id": "Bo-EEIVy5o3B",
    "scrolled": true
   },
   "outputs": [
    {
     "ename": "SyntaxError",
     "evalue": "Missing parentheses in call to 'print'. Did you mean print(\"sklearn is a better predictor for train data\")? (1253121027.py, line 37)",
     "output_type": "error",
     "traceback": [
      "\u001b[0;36m  File \u001b[0;32m\"/var/folders/z6/qpgf2djd66j4g_t563rcqfrw0000gn/T/ipykernel_12809/1253121027.py\"\u001b[0;36m, line \u001b[0;32m37\u001b[0m\n\u001b[0;31m    print \"sklearn is a better predictor for train data\"\u001b[0m\n\u001b[0m          ^\u001b[0m\n\u001b[0;31mSyntaxError\u001b[0m\u001b[0;31m:\u001b[0m Missing parentheses in call to 'print'. Did you mean print(\"sklearn is a better predictor for train data\")?\n"
     ]
    }
   ],
   "source": [
    "import scipy.optimize as optimization\n",
    "\n",
    "def constraint(params, x, y):\n",
    "  ypred = x@params\n",
    "  return y-ypred\n",
    "\n",
    "# Our initial params is a vector of size equal to dimension of x, or you can say number of columns of x\n",
    "# You can create zeros vector using np.zeros(size)\n",
    "\n",
    "# complete code\n",
    "params = np.zeros(x.shape[1])\n",
    "\n",
    "\n",
    "# Now study the documentation and complete following code\n",
    "params, _ = optimization.leastsq(constraint, params, args = (x, y))\n",
    "\n",
    "# Now we have parameter or weight we can now create our model\n",
    "model = lambda x:np.dot(x,params)\n",
    "\n",
    "# Now predict ytrain using model and see first 5 predicted and actual values\n",
    "ypred_train = model(xtrain)\n",
    "# see first 5 predicted values\n",
    "print(ypred_train)\n",
    "# see first 5 actual values\n",
    "print(ytrain)\n",
    "\n",
    "# Now predict ytest using model and see first 5 predicted and actual values\n",
    "ypred_test = model(xtest)\n",
    "print(ypred_test)\n",
    "print(ytest)\n",
    "\n",
    "# Now use custom made r2score calculator to calculate r2 score on both train and test set\n",
    "print(r2score(ytest, ypred_test), r2score(ytrain, ypred_train))\n",
    "\n",
    "# Add code to compare these results with the results you got from sklearn based implementation\n",
    "if((r2score(ytrain, trainpredict)) > (r2score(ytrain, ypred_train))):\n",
    "    print(\"sklearn is a better predictor for train data\")\n",
    "else:\n",
    "    print()\"model is a better predictor for train\"\n",
    "if((r2score(ytest, testpredict)) > (r2score(ytest, ypred_test))):\n",
    "   print \"sklearn is a better predictor for the test data\"\n",
    "else:\n",
    "   print \"model is a better predictor for the test data\""
   ]
  },
  {
   "cell_type": "code",
   "execution_count": null,
   "metadata": {},
   "outputs": [],
   "source": []
  },
  {
   "cell_type": "code",
   "execution_count": null,
   "metadata": {},
   "outputs": [],
   "source": []
  },
  {
   "cell_type": "code",
   "execution_count": null,
   "metadata": {},
   "outputs": [],
   "source": []
  }
 ],
 "metadata": {
  "colab": {
   "collapsed_sections": [],
   "name": "Copy of CS4347-Assignment2-NETID.ipynb",
   "provenance": [
    {
     "file_id": "1vsORsvIGVbJ2cNHR1lIPDIuGobP25ZPq",
     "timestamp": 1629391503766
    },
    {
     "file_id": "1vuQua73YBPg3xOVKXACAGdS_8R1OlQdX",
     "timestamp": 1611597429764
    },
    {
     "file_id": "1Jr8VoifAgTlPqVE_AiCDeWbiHGEyvkxq",
     "timestamp": 1580784119108
    }
   ]
  },
  "interpreter": {
   "hash": "16b88d1544610203bb70d520ead802a3025078c96a9e1f003faf94069083abfd"
  },
  "kernelspec": {
   "display_name": "Python 3 (ipykernel)",
   "language": "python",
   "name": "python3"
  },
  "language_info": {
   "codemirror_mode": {
    "name": "ipython",
    "version": 3
   },
   "file_extension": ".py",
   "mimetype": "text/x-python",
   "name": "python",
   "nbconvert_exporter": "python",
   "pygments_lexer": "ipython3",
   "version": "3.8.11"
  }
 },
 "nbformat": 4,
 "nbformat_minor": 2
}
