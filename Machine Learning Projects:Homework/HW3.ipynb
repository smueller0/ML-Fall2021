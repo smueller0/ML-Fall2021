{
 "cells": [
  {
   "cell_type": "markdown",
   "metadata": {},
   "source": [
    "# HW 3\n",
    "\n",
    "**DO NOT ERASE MARKDOWN CELLS AND INSTRUCTIONS IN YOUR HW submission**\n",
    "\n",
    "  * **Q** - QUESTION\n",
    "  * **A** - Where to input your answer\n",
    "\n",
    "Keep the following in mind for all notebooks you develop:\n",
    "* Structure your notebook. \n",
    "* Use headings with meaningful levels in Markdown cells, and explain the questions each piece of code is to answer or the reason it is there.\n",
    "* Make sure your notebook can always be rerun from top to bottom.\n",
    "\n",
    "Provided Jupyter notbook includes several notes, documentation and examples followed by coding challenges. \n",
    "* This assignment will cover several aspects in Python programming. \n",
    "* Python documentation has many examples, you can run these examples in your own version of notebook.\n",
    "  1.   Data Structures | [tutorial](https://docs.python.org/3.8/tutorial/datastructures.html)\n",
    "  2.   Input/Output | [tutorial](https://docs.python.org/3.8/tutorial/inputoutput.html) \n",
    "  3.   Errors and Exceptions | [tutorial](https://docs.python.org/3.8/tutorial/errors.html) \n",
    "  4.   Numpy | [quickstart](https://numpy.org/devdocs/user/quickstart.html)\n",
    "\n",
    "\n",
    "* Follow [README.md](README.md) for homework submission instructions\n",
    "\n",
    "**NOTE** Please start working on this assignment as soon as possible. If you are a beginner in Python this might take a long time. The objective of this assignment is to help you learn python.** \n",
    "\n",
    "In jupyter notebook environment, commands starting with the symbol % are magic commands or magic functions. ```%%timeit``` is one of such function. It basically gives you the speed of execution  of certain statement or blocks of codes."
   ]
  },
  {
   "cell_type": "markdown",
   "metadata": {
    "id": "0yKUUNHlR53f"
   },
   "source": [
    "\n",
    "## CONTROL FLOWS\n",
    "\n",
    "### If-else statements"
   ]
  },
  {
   "cell_type": "code",
   "execution_count": 1,
   "metadata": {
    "id": "UqEtM9VgRoh6"
   },
   "outputs": [
    {
     "name": "stdout",
     "output_type": "stream",
     "text": [
      "Enter A Number : 12\n",
      "12 is positive\n"
     ]
    }
   ],
   "source": [
    "x = int(input('Enter A Number : ')) #Cast to integer\n",
    "\n",
    "if x>0:\n",
    "  print(f'{x} is positive')\n",
    "elif x<0:\n",
    "  print(f'{x} is negative')\n",
    "else:\n",
    "  print(f'{x} is neither negative nor positive')"
   ]
  },
  {
   "cell_type": "markdown",
   "metadata": {
    "id": "aWziLa7WbpZA"
   },
   "source": [
    "**Q1:** Complete the following code below so that: \n",
    "* if the user input is greater than goal_number prompt 'Guess is higher!'\n",
    "* if user input is smaller than goal_number prompt 'Guess is lower!'\n",
    "* if user input is equal to the goal_number prompt 'Congratulations you guessed it right!'\n",
    "\n",
    "**A1** Replace ??? with code in the code cell below"
   ]
  },
  {
   "cell_type": "code",
   "execution_count": 2,
   "metadata": {
    "id": "5KA09GE0a7_d"
   },
   "outputs": [
    {
     "name": "stdout",
     "output_type": "stream",
     "text": [
      "Guess your random number : 12\n",
      "Guess is lower!\n"
     ]
    }
   ],
   "source": [
    "# A1: fill in ???\n",
    "from random import randint\n",
    "goal_number = randint(1,101)\n",
    "x = int(input('Guess your random number : '))\n",
    "\n",
    "assert x in range(1, 101), 'YOUR INPUT MUST BE BETWEEN 1 AND 100 INCLUSIVE'\n",
    "\n",
    "#A1 Enter your code below \n",
    "# If user input is greater than goal_number prompt 'Guess is higher!'\n",
    "# If user input is smaller than goal_number prompt 'Guess is lower!'\n",
    "# If user input is equal to the goal_number prompt 'Congratulations you guessed it right!'\n",
    "\n",
    "#print(goal_number)\n",
    "if x>goal_number:\n",
    "  print('Guess is higher!')\n",
    "elif x<goal_number:\n",
    "  print('Guess is lower!')\n",
    "else:\n",
    "  print('Congratulations you guessed it right!')"
   ]
  },
  {
   "cell_type": "markdown",
   "metadata": {
    "id": "cB1TvPM7gsHR"
   },
   "source": [
    "# while loop\n",
    "  "
   ]
  },
  {
   "cell_type": "markdown",
   "metadata": {},
   "source": [
    "Following is a random math expression generator Just study this code and don't worry about it. We just need it for some math game we are going to make  "
   ]
  },
  {
   "cell_type": "code",
   "execution_count": 3,
   "metadata": {
    "id": "vgcaSt2Dgtey"
   },
   "outputs": [
    {
     "name": "stdout",
     "output_type": "stream",
     "text": [
      "rand_exp :  9 + 7 + 6 + 2\n",
      "solution :  9 + 7 + 6 + 2 = 24\n"
     ]
    }
   ],
   "source": [
    "from time import time\n",
    "import random\n",
    "random.seed()\n",
    "\n",
    "# Generate random symbol\n",
    "def symbol():\n",
    "  return random.choice(['+', '-', '*'])\n",
    "\n",
    "def symbol_():\n",
    "  return random.choice(['','-'])\n",
    "\n",
    "# Generate random number from 0 to 10\n",
    "def num():\n",
    "  return random.randint(0,10)\n",
    "\n",
    "rand_exp = f'{symbol_()} {num()} {symbol()} {num()} {symbol()} {num()} {symbol()} {num()}'\n",
    "print(f'rand_exp : {rand_exp}') \n",
    "print(f'solution : {rand_exp} = {eval(rand_exp)}') #We can Evaluate this statement"
   ]
  },
  {
   "cell_type": "markdown",
   "metadata": {},
   "source": [
    "Now with the help of above we will design a math-machine-game.Basically you have to keep calculating the value of a mathematical expression correctly.  \n",
    "1) For every question you are give ten seconds.  \n",
    "2) The more questions you answer correctly and the faster, the higher your score.   \n",
    "3) Your total score is the total time you saved out of each ten-second window.  \n",
    "4) If you answer a qustion wrong game will end.  \n",
    "5) If time is runs out the game will end.  \n",
    "\n",
    "\n",
    "This is basically a tutorial to make a very simple game.  \n",
    "You will be using this same idea to make a game that includes guessing a number  "
   ]
  },
  {
   "cell_type": "code",
   "execution_count": 4,
   "metadata": {
    "id": "UFgP9z8nlnbU"
   },
   "outputs": [
    {
     "name": "stdout",
     "output_type": "stream",
     "text": [
      "- 3 - 5 + 0 * 1 = 2\n",
      "time elapsed = 1\n",
      "----------\n",
      "Great On Time\n",
      "Sorry the correct answer is -8\n",
      "----------\n",
      "Final Score is 0\n"
     ]
    }
   ],
   "source": [
    "def math_machine_game():\n",
    "  score = 0\n",
    "  total_time = 10\n",
    "\n",
    "  while(True):\n",
    "    rand_exp = f'{symbol_()} {num()} {symbol()} {num()} {symbol()} {num()} {symbol()} {num()}'\n",
    "    real_value = eval(rand_exp)\n",
    "    timenow = time() #getting current time\n",
    "\n",
    "    value = int(input(f'{rand_exp} = '))\n",
    "    time_elapsed = int(time() - timenow) #just need this to calculate how many secods passed\n",
    "    intime = time_elapsed < total_time #is this on time??\n",
    "    print(f'time elapsed = {time_elapsed}')\n",
    "    print(f'-'*10)\n",
    "    if intime:\n",
    "      print(f'Great On Time')\n",
    "      if real_value == value:\n",
    "        score += int(total_time - time_elapsed)\n",
    "        print(f'Good one you got this right')\n",
    "        print(f'Your score is {score}')\n",
    "        print(f'-'*10)\n",
    "        continue # What does continue does here?\n",
    "      else:\n",
    "        print(f'Sorry the correct answer is {real_value}')\n",
    "        print(f'-'*10)\n",
    "        break # What does break does here?\n",
    "    else:\n",
    "      print(f'Sorry time expired')\n",
    "      print(f'-'*10)\n",
    "      break # What does break does here.\n",
    "\n",
    "  print(f'Final Score is {score}')\n",
    "\n",
    "math_machine_game()"
   ]
  },
  {
   "cell_type": "markdown",
   "metadata": {
    "id": "v-aFxbXfSdpA"
   },
   "source": [
    "Go to View -> Toggle Line Number (shift L) if you cannot see the line numbers\n",
    "\n",
    "**Q2** Respond to the following 3 questions related to the code snippet above \n",
    "\n",
    "1. What is the use of ```continue``` in line 22 in the code above?\n",
    "\n",
    "  The continue makes the program skip the rest of the loop and go back to the top of the loop. The program would go back to line 5 and restart the loop. \n",
    "\n",
    "2. What happens if we replace ```continue``` (line 22) with ```pass``` statement?\n",
    "\n",
    " In this program nothing changes because the pass is within two if statements, however normally the pass would get out of the current statement or loop and continue to the line after the loop. While the continue would exit completely and jump to the top of a new iteration, or completely out of the loop.\n",
    "\n",
    "3. What is the use of ```break``` command on lines 26 and 30.    \n",
    "\n",
    "In the line 26, the break cause it to break out of the if/else statement of deciding if the input is correct or not. The second break command breaks out of if the input was given in time. Both of the breaks will cause the while statement to turn false and break the loop and thus break the program.\n",
    "\n",
    "HINT: replace the code, run the cell and explain the outcome "
   ]
  },
  {
   "cell_type": "markdown",
   "metadata": {
    "id": "IIntd-qp7EBV"
   },
   "source": [
    "## FUNCTIONAL PROGRAMMING"
   ]
  },
  {
   "cell_type": "markdown",
   "metadata": {},
   "source": [
    "[lambda operation]: A lambda function is an anynymous function. It simply takes some input, processes it and returns it  \n",
    "You can call it as a one line function as well  \n",
    "\n",
    "Example: a lambda function that takes a,b -> adds them and returns the sume  "
   ]
  },
  {
   "cell_type": "code",
   "execution_count": 5,
   "metadata": {
    "id": "ol4lZgCv6NKQ"
   },
   "outputs": [
    {
     "name": "stdout",
     "output_type": "stream",
     "text": [
      "sumthem(2,3) = 5\n",
      "squareit(2) = 4\n"
     ]
    }
   ],
   "source": [
    "#lambda\n",
    "sumthem = lambda a,b:a+b\n",
    "print(f'sumthem(2,3) = {sumthem(2,3)}')\n",
    "\n",
    "squareit = lambda a:a**2\n",
    "print(f'squareit(2) = {squareit(2)}')"
   ]
  },
  {
   "cell_type": "markdown",
   "metadata": {},
   "source": [
    "It is not advised to use lambda every time, there are specific uses of lambda operations  \n",
    "To understand this lets discuss another powerful concept called as map  \n",
    "\n",
    "For a list x = [1,3,5,6,7], if I want to find a square of each element, i can use for loop or lambda operator: "
   ]
  },
  {
   "cell_type": "code",
   "execution_count": 6,
   "metadata": {},
   "outputs": [
    {
     "name": "stdout",
     "output_type": "stream",
     "text": [
      "x = [1, 3, 5, 6, 7]\n",
      "xsquare = [1, 9, 25, 36, 49]\n",
      "squarewithmap = <map object at 0x105d07970>\n"
     ]
    }
   ],
   "source": [
    "#For loop \n",
    "x = [1,3,5,6,7]\n",
    "xsquare = []\n",
    "for xi in x:\n",
    "  xsquare.append(xi**2)\n",
    "print(f'x = {x}')\n",
    "print(f'xsquare = {xsquare}')\n",
    "\n",
    "# Well there is a pythonic way to do this, lets use map\n",
    "\n",
    "squarewithmap = map(lambda a:a**2, x)\n",
    "print(f'squarewithmap = {squarewithmap}')"
   ]
  },
  {
   "cell_type": "markdown",
   "metadata": {},
   "source": [
    "But that will print map object, you need to convert this into list. You can cast by list(mapobject)"
   ]
  },
  {
   "cell_type": "code",
   "execution_count": 7,
   "metadata": {},
   "outputs": [
    {
     "name": "stdout",
     "output_type": "stream",
     "text": [
      "squarewithmap = [1, 9, 25, 36, 49]\n",
      "squarewithmap = [1, 9, 25, 36, 49]\n"
     ]
    }
   ],
   "source": [
    "#lambda\n",
    "squarewithmap = list(map(lambda a:a**2, x))\n",
    "print(f'squarewithmap = {squarewithmap}')\n",
    "# Or,\n",
    "squarewithmap = [*map(lambda a:a**2, x)]\n",
    "print(f'squarewithmap = {squarewithmap}')"
   ]
  },
  {
   "cell_type": "markdown",
   "metadata": {},
   "source": [
    "Another important thing is 'filter'. Lets say we want to filter out odd numbers from x.   \n",
    "We can do this by taking only even numbers "
   ]
  },
  {
   "cell_type": "code",
   "execution_count": 8,
   "metadata": {},
   "outputs": [
    {
     "name": "stdout",
     "output_type": "stream",
     "text": [
      "filtered = [6]\n"
     ]
    }
   ],
   "source": [
    "filtered = [*filter(lambda x:x%2==0,x)]\n",
    "print(f'filtered = {filtered}')\n",
    "\n",
    "# There are many other functional aspects, we suggest you to visit the documentation to learn cool stuff\n",
    "# I would love to add those, but already assignment is too long"
   ]
  },
  {
   "cell_type": "markdown",
   "metadata": {
    "id": "tLgwe00m9un8"
   },
   "source": [
    "**Q3** Fill out two fuctional programming examples in the following code cell. \n",
    "\n",
    "**A3** Replace ? in the code below "
   ]
  },
  {
   "cell_type": "code",
   "execution_count": 9,
   "metadata": {
    "colab": {
     "base_uri": "https://localhost:8080/"
    },
    "executionInfo": {
     "elapsed": 374,
     "status": "ok",
     "timestamp": 1611117115987,
     "user": {
      "displayName": "Xiaomin Li",
      "photoUrl": "",
      "userId": "05582660067082111980"
     },
     "user_tz": 360
    },
    "id": "frQPIlth-sP4",
    "outputId": "5cba9045-19f8-4fb4-d10c-f41d1cdf0c5e"
   },
   "outputs": [
    {
     "name": "stdout",
     "output_type": "stream",
     "text": [
      "sum3(1, 2, 3) = 6\n",
      " 15 is an odd number : True\n"
     ]
    }
   ],
   "source": [
    "#Task 1: Add argument a, b, and c and return the result\n",
    "sum3 = lambda a, b, c: a+b+c \n",
    "print(f'sum3(1, 2, 3) = {sum3(1, 2, 3)}')\n",
    "\n",
    "#Task 2: Return True if the input augument is odd number\n",
    "isOdd = lambda x: True if ((x%2) != 0) else False\n",
    "print(f' 15 is an odd number : {isOdd(15)}')\n"
   ]
  },
  {
   "cell_type": "markdown",
   "metadata": {
    "id": "Xaeevxa8HyMX"
   },
   "source": [
    "## PANDAS"
   ]
  },
  {
   "cell_type": "markdown",
   "metadata": {},
   "source": [
    "[Pandas](https://pandas.pydata.org/docs/pandas.pdf) is a python library to deal with tabular data. \n",
    "First, we create artificial tabular data using python [faker](https://faker.readthedocs.io/en/master/) python module. \n",
    "\n",
    "If ```faker``` package is not installed, use \n",
    "```conda install faker``` in commandline"
   ]
  },
  {
   "cell_type": "code",
   "execution_count": 10,
   "metadata": {
    "id": "usirwjRxIdK3"
   },
   "outputs": [],
   "source": [
    "# Lets use faker\n",
    "from faker import Faker\n",
    "import random\n",
    "random.seed()\n",
    "fake = Faker()\n",
    "\n",
    "#  Lets create some random data of size 100\n",
    "data = {'name' : [fake.name() for _ in range(100)],\n",
    "        'company' : [fake.company() for _ in range(100)],\n",
    "        'salary' : [random.randrange(50000,1000000,10000) for _ in range(100)],\n",
    "        'address' : [fake.address() for _ in range(100)]}\n"
   ]
  },
  {
   "cell_type": "code",
   "execution_count": 11,
   "metadata": {
    "id": "LWCS5IvZIs9q"
   },
   "outputs": [
    {
     "name": "stdout",
     "output_type": "stream",
     "text": [
      "{'name': ['Dylan Arias', 'Jill Carr', 'Sabrina Henderson', 'Ana Alexander', 'Eric Contreras', 'Kelly Sanchez', 'Tracey Smith', 'Shelby Stanley', 'Anthony Anderson', 'Michael Thompson', 'Charles Wilson', 'Jesus Nguyen', 'Jason Blake', 'Jared Rogers', 'Chelsea Montgomery', 'John Jones', 'Samuel Williams', 'Benjamin English', 'Jennifer Dixon', 'Alyssa Rogers', 'Darren Davis', 'Parker Nelson', 'Jeremy Rivera', 'Jason Wright', 'Jessica Anderson', 'Eric Medina', 'Eric Sloan', 'Barbara Anderson', 'Ryan Taylor', 'Audrey Mason DVM', 'Penny Williams', 'Christina Lane', 'Brandon Adams', 'John Campbell', 'Tracey Zimmerman', 'Tara Berg', 'Richard Smith', 'Kathryn Jacobs', 'Steven Moore', 'Bernard Ward', 'Randy Taylor', 'Eddie Fisher', 'Eric Martinez', 'Johnny Valencia', 'Tracey Johnson', 'Brian Mason', 'Jason Gibson', 'Tony Rose', 'Jessica Wright', 'Joe Jones', 'Fernando Mosley', 'Ashlee Velazquez', 'Thomas Whitaker', 'Rebecca Edwards', 'Anna Conner', 'Sandra Fisher', 'Anne Fitzpatrick', 'Suzanne Miller', 'Joe Fitzgerald', 'Rebecca Ferguson', 'William Mcdonald', 'Charles Bishop', 'Shelby Phillips DDS', 'Alicia Rice', 'Christopher Young', 'Stephen Morse', 'Jacob Taylor', 'Dr. Terry Mcclure', 'Ms. Natalie Erickson', 'Spencer Finley', 'Monica Powell', 'Aaron Wright', 'Jerry Riley', 'Matthew Sexton', 'Catherine Whitehead', 'Catherine Cummings', 'Curtis Bishop', 'Carolyn Walker', 'Ryan Horne', 'Erica Stewart', 'Taylor Johnson', 'Randall Sampson', 'Andrea Gordon', 'Janet Clay', 'Eric Jimenez', 'Elizabeth Oliver', 'Kristina Jordan', 'Kristi Bailey', 'Scott Ingram', 'David Allen MD', 'Rachel Anderson MD', 'Heather Singh', 'Lisa Bentley', 'Tiffany Craig', 'Stephen Morales', 'Robyn Ramirez', 'Natalie Spencer', 'John Martinez', 'Elizabeth Jenkins', 'Corey Estrada'], 'company': ['Hill, Nelson and Gonzalez', 'Stewart, Hensley and Perez', 'Norris Inc', 'Torres-Ortiz', 'Wilkerson, Wallace and Williams', 'Hunt LLC', 'Bishop, Donovan and Zavala', 'Turner-Johnson', 'Burton-Johnston', 'Richardson-Mcdaniel', 'Stewart-Hall', 'Mason-Mitchell', 'Schaefer, Hood and Sanchez', 'Long-Ross', 'Stephenson-Gutierrez', 'Hall, Reed and Ramirez', 'Sims, Terry and Roman', 'Jones Ltd', 'Hart, Allen and Alexander', 'Daniels-Payne', 'Sanders Ltd', 'Suarez, Wright and Scott', 'Franco-Jones', 'Erickson, Prince and Berg', 'Petersen, Vazquez and Chambers', 'Johnson, Brady and Baird', 'Mckay LLC', 'Parks Inc', 'Simmons, Bryant and Mcpherson', 'Jackson, Jackson and Gallagher', 'Travis-Hansen', 'Bryant Inc', 'Patel Inc', 'Long LLC', 'Gutierrez-Underwood', 'Kelly-Mays', 'Olson, Downs and Mendez', 'Carter-Mathis', 'Cohen-Kramer', 'Herring, Moore and Mora', 'Lopez, Gibson and Morgan', 'Rodriguez, Walker and Hatfield', 'Mcguire, Moreno and Thomas', 'Trevino-Huffman', 'Curtis-Hunter', 'Gonzalez, Davis and Simpson', 'Garrett-Long', 'Ortiz Inc', 'Nelson-Schaefer', 'Hanna, Martin and Gibson', 'Sanders and Sons', 'Henderson Inc', 'Shields, Jenkins and Wilson', 'White Ltd', 'Ramsey, Woods and Patterson', 'Larson Inc', 'Bowman, Jackson and Jenkins', 'Smith-Tucker', 'Robinson-Lopez', 'Cameron, Harrell and Wilson', 'Warren-Little', 'Burns, Daniels and Smith', 'Robinson-Goodwin', 'Long-Taylor', 'Mccarthy Group', 'Parker-Cuevas', 'Ramirez-Gillespie', 'Chapman-Gonzalez', 'Kelly, Moss and Romero', 'Jordan LLC', 'Williams PLC', 'Smith-Morgan', 'Escobar Inc', 'Hicks-Parks', 'Moore Ltd', 'Hernandez-Parker', 'Burton-Goodman', 'Moore-Ballard', 'Knight PLC', 'Adams, Haas and Pearson', 'Robinson-Martinez', 'Vega-Hess', 'Gray, Austin and Jackson', 'Smith, Spence and Holt', 'Garcia-Parsons', 'Washington Inc', 'Peterson, Webb and Perkins', 'Bailey-Jones', 'Rosario and Sons', 'Warner-Cooper', 'Patrick and Sons', 'Jones-Perry', 'Sloan-Cohen', 'Rodriguez-Woodard', 'Christian PLC', 'Foster-Hays', 'Wilson-Hill', 'Thompson-Thompson', 'Meyer-Walsh', 'Morgan-Robinson'], 'salary': [530000, 620000, 610000, 320000, 810000, 900000, 200000, 560000, 360000, 530000, 770000, 300000, 520000, 270000, 50000, 830000, 280000, 410000, 960000, 90000, 930000, 60000, 980000, 320000, 380000, 620000, 570000, 500000, 240000, 880000, 720000, 580000, 200000, 200000, 160000, 200000, 670000, 560000, 990000, 950000, 560000, 770000, 500000, 510000, 170000, 170000, 370000, 550000, 790000, 870000, 280000, 880000, 670000, 920000, 600000, 540000, 590000, 70000, 100000, 490000, 920000, 430000, 850000, 130000, 770000, 110000, 260000, 930000, 580000, 650000, 280000, 830000, 730000, 490000, 500000, 430000, 890000, 700000, 880000, 70000, 240000, 700000, 80000, 170000, 810000, 170000, 610000, 760000, 270000, 190000, 410000, 290000, 920000, 460000, 620000, 250000, 90000, 210000, 690000, 980000], 'address': ['550 Garcia Track Suite 262\\nSouth Sydneyburgh, NE 63267', '1318 Mckenzie Wells Suite 916\\nNew Aprilborough, KY 72953', '03100 Ian Highway Apt. 317\\nAlbertmouth, CT 47872', '8157 William Street Apt. 594\\nMillermouth, OR 42657', '294 Johnson Mews\\nNew Sarah, PA 52505', 'PSC 6353, Box 2529\\nAPO AA 28089', '3031 Peterson Fords\\nLake Johnport, VT 08533', '179 Walter Route\\nLake Ashley, MO 61348', '4733 Carl Loop Suite 147\\nBrianburgh, MD 17991', '941 Manuel Mountain\\nBrittneymouth, WY 53710', '40460 Joshua Forks\\nHernandezmouth, AZ 37854', '63025 Cortez Corners Apt. 833\\nPort Larryview, IA 01797', '296 Timothy Terrace\\nNew Brenda, VT 93378', '66666 Roy Islands\\nSouth Melissashire, ND 23800', '685 Roberts Course Suite 090\\nWest Bradleyshire, TN 48211', 'PSC 6326, Box 5496\\nAPO AP 57835', '3239 Armstrong Lights Suite 473\\nPort Matthew, CO 76391', '62403 Rebecca Mills Suite 178\\nOrozcotown, WI 55790', '409 Miller Island\\nBrentburgh, KS 95743', '17499 Wendy Trail\\nPort Gabriel, VA 80611', '58528 Trevor Square Suite 644\\nPort Derek, OH 57295', '7226 Dyer Manors\\nSheilamouth, AR 25509', '69744 Christine Light Apt. 639\\nSouth Todd, MN 76950', '98973 George Village Suite 619\\nHolmesberg, MI 53869', '8273 Stephanie Crossing\\nRichardbury, MI 02528', '582 Sheila Cove Apt. 651\\nNorth Christieburgh, CT 46192', '293 Kevin Lake\\nCooperfurt, MS 15280', '1129 Kathleen Turnpike\\nAndrewberg, MO 90814', '6074 Smith Motorway Apt. 801\\nWest David, TX 30571', '239 Rachael Ridge\\nRonaldton, GA 27230', '78493 Courtney Port\\nNew Jennyville, IA 68916', '6360 Roberson Plain\\nWest William, MT 14228', '52534 Jason Vista Apt. 867\\nKendraburgh, AL 00639', '4477 Kimberly Junctions Suite 391\\nPort Sean, NE 83157', '0679 Richard Prairie\\nYoungburgh, DE 69384', 'PSC 4976, Box 7448\\nAPO AE 43266', '010 Graves Bridge\\nSouth Richardberg, ME 61262', '52078 Davis Roads Suite 537\\nAndrewberg, TN 90082', '54038 Tammy Manor Suite 941\\nMartinezfurt, OH 34961', '50016 April Coves\\nPort Branditown, CO 50756', '992 Robinson Mall Suite 505\\nLake Jasonshire, LA 69572', '41715 David Parks Apt. 017\\nLopezberg, AR 83262', '2989 Gonzalez Passage\\nNew Joshua, ME 76266', '2998 Stephanie Trail Apt. 663\\nThomaschester, SD 28329', '16446 Crawford Mountains\\nNew Wayne, UT 75400', '761 Alexander Park\\nReevesport, MD 24603', '324 Chloe Village Apt. 074\\nLake Thomasborough, NJ 20700', '37900 Osborne Drive Suite 625\\nCookville, MN 91401', '088 Geoffrey Point Apt. 925\\nBrookshaven, IN 14456', 'USCGC Harrison\\nFPO AE 93360', '49382 Burns Springs\\nNorth Stephanie, WI 21663', 'Unit 1366 Box 5012\\nDPO AE 14032', '00686 Christina Pass Suite 045\\nWest Dianeport, MT 40845', 'PSC 3277, Box 5301\\nAPO AE 02693', '57178 David Knolls Apt. 649\\nEast Melissa, AR 42409', '980 Flynn Ramp Apt. 642\\nHannahton, WI 78455', '1371 Hector Meadow\\nBrandonview, WY 10012', '12722 Zachary Branch\\nPort Deannamouth, OK 22210', '82691 Baldwin Plains Apt. 376\\nJohnberg, AK 28982', 'USCGC Massey\\nFPO AP 14155', '399 Brooks Garden Apt. 939\\nHeatherview, FL 88585', 'Unit 5201 Box 8562\\nDPO AA 86702', '108 House Tunnel\\nHaydenside, ND 16009', 'Unit 4866 Box 8320\\nDPO AA 10548', '13444 Castillo Village\\nLake Charleston, TX 72817', 'PSC 4353, Box 2259\\nAPO AE 34070', '2372 Davis Road\\nEast Josephshire, NV 01131', '85630 Brenda Park\\nPaynestad, NC 74204', '6951 Dudley Loaf\\nPort Sheilastad, OH 66064', '258 Powell Turnpike\\nSouth Meganfurt, WI 99909', '56225 Bentley Crossing Suite 428\\nNew Christopherstad, UT 05179', '372 Diaz Port Apt. 057\\nSarahshire, MN 89225', '65190 Benson Loop\\nSusantown, SD 92338', '2667 Lyons Place\\nOlsonburgh, NM 88557', '27945 Anderson Plaza\\nOwenston, MD 78132', '37067 Bridges Groves Suite 931\\nPalmerburgh, MO 98197', '860 Lewis Fall\\nTiffanyburgh, HI 93515', '565 Marcus Turnpike\\nNicolemouth, IL 11382', '4327 Ellison Points\\nEast Maria, AZ 64355', '1844 Greg Courts\\nHobbsfurt, MN 61953', '7432 Michael Branch Apt. 863\\nSeantown, NM 49859', '59520 Michael Divide\\nWest Davidstad, IA 62383', '558 Cameron Wall Suite 463\\nRittershire, CA 71123', '5849 Rebecca Roads\\nSouth Marie, ND 02437', '178 Morris Dam\\nLake Cheryl, NM 74760', '39370 Susan Meadows\\nRamirezchester, GA 06259', '263 Pittman Ranch\\nAndersonside, ME 99098', '605 Edwards Shores Suite 818\\nEast Sandra, AK 77074', '3374 Rose Spurs\\nNorth Kenneth, MS 73069', '48668 Tran Route Apt. 325\\nWellsland, MT 03768', '494 Terrence Prairie Suite 698\\nHannahside, AZ 08344', '03776 George Orchard\\nGatesmouth, IL 59255', 'Unit 5809 Box 9526\\nDPO AA 08779', '57400 Regina Manor Apt. 207\\nNorth Patricia, NJ 35003', '1183 Scott Forks\\nEast Jonathan, LA 44827', '1815 Davis Turnpike\\nSouth Kimville, WV 11882', '72241 Ramirez Brooks\\nSeanfurt, MS 64653', 'USNV Thompson\\nFPO AP 57349', '084 Regina Estates Suite 078\\nWest Terri, CO 84601', '76924 Walker Ports Apt. 524\\nBrianland, NH 20463']}\n"
     ]
    }
   ],
   "source": [
    "print(data) # See our data"
   ]
  },
  {
   "cell_type": "markdown",
   "metadata": {},
   "source": [
    "### Well, now we can use panda dataframe to make this data more neat"
   ]
  },
  {
   "cell_type": "code",
   "execution_count": 12,
   "metadata": {
    "id": "WOrV-AcMIzgM"
   },
   "outputs": [
    {
     "data": {
      "text/html": [
       "<div>\n",
       "<style scoped>\n",
       "    .dataframe tbody tr th:only-of-type {\n",
       "        vertical-align: middle;\n",
       "    }\n",
       "\n",
       "    .dataframe tbody tr th {\n",
       "        vertical-align: top;\n",
       "    }\n",
       "\n",
       "    .dataframe thead th {\n",
       "        text-align: right;\n",
       "    }\n",
       "</style>\n",
       "<table border=\"1\" class=\"dataframe\">\n",
       "  <thead>\n",
       "    <tr style=\"text-align: right;\">\n",
       "      <th></th>\n",
       "      <th>name</th>\n",
       "      <th>company</th>\n",
       "      <th>salary</th>\n",
       "      <th>address</th>\n",
       "    </tr>\n",
       "  </thead>\n",
       "  <tbody>\n",
       "    <tr>\n",
       "      <th>0</th>\n",
       "      <td>Dylan Arias</td>\n",
       "      <td>Hill, Nelson and Gonzalez</td>\n",
       "      <td>530000</td>\n",
       "      <td>550 Garcia Track Suite 262\\nSouth Sydneyburgh,...</td>\n",
       "    </tr>\n",
       "    <tr>\n",
       "      <th>1</th>\n",
       "      <td>Jill Carr</td>\n",
       "      <td>Stewart, Hensley and Perez</td>\n",
       "      <td>620000</td>\n",
       "      <td>1318 Mckenzie Wells Suite 916\\nNew Aprilboroug...</td>\n",
       "    </tr>\n",
       "    <tr>\n",
       "      <th>2</th>\n",
       "      <td>Sabrina Henderson</td>\n",
       "      <td>Norris Inc</td>\n",
       "      <td>610000</td>\n",
       "      <td>03100 Ian Highway Apt. 317\\nAlbertmouth, CT 47872</td>\n",
       "    </tr>\n",
       "    <tr>\n",
       "      <th>3</th>\n",
       "      <td>Ana Alexander</td>\n",
       "      <td>Torres-Ortiz</td>\n",
       "      <td>320000</td>\n",
       "      <td>8157 William Street Apt. 594\\nMillermouth, OR ...</td>\n",
       "    </tr>\n",
       "    <tr>\n",
       "      <th>4</th>\n",
       "      <td>Eric Contreras</td>\n",
       "      <td>Wilkerson, Wallace and Williams</td>\n",
       "      <td>810000</td>\n",
       "      <td>294 Johnson Mews\\nNew Sarah, PA 52505</td>\n",
       "    </tr>\n",
       "    <tr>\n",
       "      <th>...</th>\n",
       "      <td>...</td>\n",
       "      <td>...</td>\n",
       "      <td>...</td>\n",
       "      <td>...</td>\n",
       "    </tr>\n",
       "    <tr>\n",
       "      <th>95</th>\n",
       "      <td>Robyn Ramirez</td>\n",
       "      <td>Foster-Hays</td>\n",
       "      <td>250000</td>\n",
       "      <td>1815 Davis Turnpike\\nSouth Kimville, WV 11882</td>\n",
       "    </tr>\n",
       "    <tr>\n",
       "      <th>96</th>\n",
       "      <td>Natalie Spencer</td>\n",
       "      <td>Wilson-Hill</td>\n",
       "      <td>90000</td>\n",
       "      <td>72241 Ramirez Brooks\\nSeanfurt, MS 64653</td>\n",
       "    </tr>\n",
       "    <tr>\n",
       "      <th>97</th>\n",
       "      <td>John Martinez</td>\n",
       "      <td>Thompson-Thompson</td>\n",
       "      <td>210000</td>\n",
       "      <td>USNV Thompson\\nFPO AP 57349</td>\n",
       "    </tr>\n",
       "    <tr>\n",
       "      <th>98</th>\n",
       "      <td>Elizabeth Jenkins</td>\n",
       "      <td>Meyer-Walsh</td>\n",
       "      <td>690000</td>\n",
       "      <td>084 Regina Estates Suite 078\\nWest Terri, CO 8...</td>\n",
       "    </tr>\n",
       "    <tr>\n",
       "      <th>99</th>\n",
       "      <td>Corey Estrada</td>\n",
       "      <td>Morgan-Robinson</td>\n",
       "      <td>980000</td>\n",
       "      <td>76924 Walker Ports Apt. 524\\nBrianland, NH 20463</td>\n",
       "    </tr>\n",
       "  </tbody>\n",
       "</table>\n",
       "<p>100 rows × 4 columns</p>\n",
       "</div>"
      ],
      "text/plain": [
       "                 name                          company  salary  \\\n",
       "0         Dylan Arias        Hill, Nelson and Gonzalez  530000   \n",
       "1           Jill Carr       Stewart, Hensley and Perez  620000   \n",
       "2   Sabrina Henderson                       Norris Inc  610000   \n",
       "3       Ana Alexander                     Torres-Ortiz  320000   \n",
       "4      Eric Contreras  Wilkerson, Wallace and Williams  810000   \n",
       "..                ...                              ...     ...   \n",
       "95      Robyn Ramirez                      Foster-Hays  250000   \n",
       "96    Natalie Spencer                      Wilson-Hill   90000   \n",
       "97      John Martinez                Thompson-Thompson  210000   \n",
       "98  Elizabeth Jenkins                      Meyer-Walsh  690000   \n",
       "99      Corey Estrada                  Morgan-Robinson  980000   \n",
       "\n",
       "                                              address  \n",
       "0   550 Garcia Track Suite 262\\nSouth Sydneyburgh,...  \n",
       "1   1318 Mckenzie Wells Suite 916\\nNew Aprilboroug...  \n",
       "2   03100 Ian Highway Apt. 317\\nAlbertmouth, CT 47872  \n",
       "3   8157 William Street Apt. 594\\nMillermouth, OR ...  \n",
       "4               294 Johnson Mews\\nNew Sarah, PA 52505  \n",
       "..                                                ...  \n",
       "95      1815 Davis Turnpike\\nSouth Kimville, WV 11882  \n",
       "96           72241 Ramirez Brooks\\nSeanfurt, MS 64653  \n",
       "97                        USNV Thompson\\nFPO AP 57349  \n",
       "98  084 Regina Estates Suite 078\\nWest Terri, CO 8...  \n",
       "99   76924 Walker Ports Apt. 524\\nBrianland, NH 20463  \n",
       "\n",
       "[100 rows x 4 columns]"
      ]
     },
     "execution_count": 12,
     "metadata": {},
     "output_type": "execute_result"
    }
   ],
   "source": [
    "import pandas as pd\n",
    "df = pd.DataFrame(data = data, columns = data.keys())\n",
    "df"
   ]
  },
  {
   "cell_type": "code",
   "execution_count": 13,
   "metadata": {
    "id": "5oydGZMVJBxj"
   },
   "outputs": [
    {
     "data": {
      "text/html": [
       "<div>\n",
       "<style scoped>\n",
       "    .dataframe tbody tr th:only-of-type {\n",
       "        vertical-align: middle;\n",
       "    }\n",
       "\n",
       "    .dataframe tbody tr th {\n",
       "        vertical-align: top;\n",
       "    }\n",
       "\n",
       "    .dataframe thead th {\n",
       "        text-align: right;\n",
       "    }\n",
       "</style>\n",
       "<table border=\"1\" class=\"dataframe\">\n",
       "  <thead>\n",
       "    <tr style=\"text-align: right;\">\n",
       "      <th></th>\n",
       "      <th>salary</th>\n",
       "    </tr>\n",
       "  </thead>\n",
       "  <tbody>\n",
       "    <tr>\n",
       "      <th>count</th>\n",
       "      <td>100.00000</td>\n",
       "    </tr>\n",
       "    <tr>\n",
       "      <th>mean</th>\n",
       "      <td>513800.00000</td>\n",
       "    </tr>\n",
       "    <tr>\n",
       "      <th>std</th>\n",
       "      <td>279807.94279</td>\n",
       "    </tr>\n",
       "    <tr>\n",
       "      <th>min</th>\n",
       "      <td>50000.00000</td>\n",
       "    </tr>\n",
       "    <tr>\n",
       "      <th>25%</th>\n",
       "      <td>267500.00000</td>\n",
       "    </tr>\n",
       "    <tr>\n",
       "      <th>50%</th>\n",
       "      <td>530000.00000</td>\n",
       "    </tr>\n",
       "    <tr>\n",
       "      <th>75%</th>\n",
       "      <td>762500.00000</td>\n",
       "    </tr>\n",
       "    <tr>\n",
       "      <th>max</th>\n",
       "      <td>990000.00000</td>\n",
       "    </tr>\n",
       "  </tbody>\n",
       "</table>\n",
       "</div>"
      ],
      "text/plain": [
       "             salary\n",
       "count     100.00000\n",
       "mean   513800.00000\n",
       "std    279807.94279\n",
       "min     50000.00000\n",
       "25%    267500.00000\n",
       "50%    530000.00000\n",
       "75%    762500.00000\n",
       "max    990000.00000"
      ]
     },
     "execution_count": 13,
     "metadata": {},
     "output_type": "execute_result"
    }
   ],
   "source": [
    "df.describe() # Interesting things about this data frame is we can see the summary of data"
   ]
  },
  {
   "cell_type": "markdown",
   "metadata": {},
   "source": [
    "So since salary is only a column with numeric values, we get only salary statistics  \n",
    "You can access each column by following two ways  \n",
    "Lets access salary  "
   ]
  },
  {
   "cell_type": "code",
   "execution_count": 14,
   "metadata": {
    "id": "0BZVOiPNJyex"
   },
   "outputs": [
    {
     "data": {
      "text/plain": [
       "0     530000\n",
       "1     620000\n",
       "2     610000\n",
       "3     320000\n",
       "4     810000\n",
       "       ...  \n",
       "95    250000\n",
       "96     90000\n",
       "97    210000\n",
       "98    690000\n",
       "99    980000\n",
       "Name: salary, Length: 100, dtype: int64"
      ]
     },
     "execution_count": 14,
     "metadata": {},
     "output_type": "execute_result"
    }
   ],
   "source": [
    "\n",
    "df.salary"
   ]
  },
  {
   "cell_type": "code",
   "execution_count": 15,
   "metadata": {
    "id": "UiypF01hJ77M"
   },
   "outputs": [
    {
     "data": {
      "text/plain": [
       "0     530000\n",
       "1     620000\n",
       "2     610000\n",
       "3     320000\n",
       "4     810000\n",
       "       ...  \n",
       "95    250000\n",
       "96     90000\n",
       "97    210000\n",
       "98    690000\n",
       "99    980000\n",
       "Name: salary, Length: 100, dtype: int64"
      ]
     },
     "execution_count": 15,
     "metadata": {},
     "output_type": "execute_result"
    }
   ],
   "source": [
    "df['salary'] # Similarly another way "
   ]
  },
  {
   "cell_type": "markdown",
   "metadata": {},
   "source": [
    "For further more indexing of data frame please review panda documentation  \n",
    "Now lets do some interesting stuff, lets create a column that has an information about if that person salary is above 500k  "
   ]
  },
  {
   "cell_type": "code",
   "execution_count": 16,
   "metadata": {
    "id": "N9eoyzhaKJot"
   },
   "outputs": [
    {
     "data": {
      "text/html": [
       "<div>\n",
       "<style scoped>\n",
       "    .dataframe tbody tr th:only-of-type {\n",
       "        vertical-align: middle;\n",
       "    }\n",
       "\n",
       "    .dataframe tbody tr th {\n",
       "        vertical-align: top;\n",
       "    }\n",
       "\n",
       "    .dataframe thead th {\n",
       "        text-align: right;\n",
       "    }\n",
       "</style>\n",
       "<table border=\"1\" class=\"dataframe\">\n",
       "  <thead>\n",
       "    <tr style=\"text-align: right;\">\n",
       "      <th></th>\n",
       "      <th>name</th>\n",
       "      <th>company</th>\n",
       "      <th>salary</th>\n",
       "      <th>address</th>\n",
       "      <th>above500k</th>\n",
       "    </tr>\n",
       "  </thead>\n",
       "  <tbody>\n",
       "    <tr>\n",
       "      <th>0</th>\n",
       "      <td>Dylan Arias</td>\n",
       "      <td>Hill, Nelson and Gonzalez</td>\n",
       "      <td>530000</td>\n",
       "      <td>550 Garcia Track Suite 262\\nSouth Sydneyburgh,...</td>\n",
       "      <td>True</td>\n",
       "    </tr>\n",
       "    <tr>\n",
       "      <th>1</th>\n",
       "      <td>Jill Carr</td>\n",
       "      <td>Stewart, Hensley and Perez</td>\n",
       "      <td>620000</td>\n",
       "      <td>1318 Mckenzie Wells Suite 916\\nNew Aprilboroug...</td>\n",
       "      <td>True</td>\n",
       "    </tr>\n",
       "    <tr>\n",
       "      <th>2</th>\n",
       "      <td>Sabrina Henderson</td>\n",
       "      <td>Norris Inc</td>\n",
       "      <td>610000</td>\n",
       "      <td>03100 Ian Highway Apt. 317\\nAlbertmouth, CT 47872</td>\n",
       "      <td>True</td>\n",
       "    </tr>\n",
       "    <tr>\n",
       "      <th>3</th>\n",
       "      <td>Ana Alexander</td>\n",
       "      <td>Torres-Ortiz</td>\n",
       "      <td>320000</td>\n",
       "      <td>8157 William Street Apt. 594\\nMillermouth, OR ...</td>\n",
       "      <td>False</td>\n",
       "    </tr>\n",
       "    <tr>\n",
       "      <th>4</th>\n",
       "      <td>Eric Contreras</td>\n",
       "      <td>Wilkerson, Wallace and Williams</td>\n",
       "      <td>810000</td>\n",
       "      <td>294 Johnson Mews\\nNew Sarah, PA 52505</td>\n",
       "      <td>True</td>\n",
       "    </tr>\n",
       "  </tbody>\n",
       "</table>\n",
       "</div>"
      ],
      "text/plain": [
       "                name                          company  salary  \\\n",
       "0        Dylan Arias        Hill, Nelson and Gonzalez  530000   \n",
       "1          Jill Carr       Stewart, Hensley and Perez  620000   \n",
       "2  Sabrina Henderson                       Norris Inc  610000   \n",
       "3      Ana Alexander                     Torres-Ortiz  320000   \n",
       "4     Eric Contreras  Wilkerson, Wallace and Williams  810000   \n",
       "\n",
       "                                             address  above500k  \n",
       "0  550 Garcia Track Suite 262\\nSouth Sydneyburgh,...       True  \n",
       "1  1318 Mckenzie Wells Suite 916\\nNew Aprilboroug...       True  \n",
       "2  03100 Ian Highway Apt. 317\\nAlbertmouth, CT 47872       True  \n",
       "3  8157 William Street Apt. 594\\nMillermouth, OR ...      False  \n",
       "4              294 Johnson Mews\\nNew Sarah, PA 52505       True  "
      ]
     },
     "execution_count": 16,
     "metadata": {},
     "output_type": "execute_result"
    }
   ],
   "source": [
    "df['above500k'] = df.salary > 500000\n",
    "\n",
    "df.head() # Now lets review our dataframe"
   ]
  },
  {
   "cell_type": "markdown",
   "metadata": {},
   "source": [
    "Now lets say we wan't to do even more complicated stuff  \n",
    "We want to add a status column that has following information  \n",
    "If salary is between 0 to 500k we will write '0k-500k USD' else we will write '500k-1M USD' in 'status' column  \n",
    "This can be done easily  "
   ]
  },
  {
   "cell_type": "code",
   "execution_count": 17,
   "metadata": {
    "id": "pgh2QjbnOExD"
   },
   "outputs": [
    {
     "data": {
      "text/html": [
       "<div>\n",
       "<style scoped>\n",
       "    .dataframe tbody tr th:only-of-type {\n",
       "        vertical-align: middle;\n",
       "    }\n",
       "\n",
       "    .dataframe tbody tr th {\n",
       "        vertical-align: top;\n",
       "    }\n",
       "\n",
       "    .dataframe thead th {\n",
       "        text-align: right;\n",
       "    }\n",
       "</style>\n",
       "<table border=\"1\" class=\"dataframe\">\n",
       "  <thead>\n",
       "    <tr style=\"text-align: right;\">\n",
       "      <th></th>\n",
       "      <th>name</th>\n",
       "      <th>company</th>\n",
       "      <th>salary</th>\n",
       "      <th>address</th>\n",
       "      <th>above500k</th>\n",
       "      <th>status</th>\n",
       "    </tr>\n",
       "  </thead>\n",
       "  <tbody>\n",
       "    <tr>\n",
       "      <th>0</th>\n",
       "      <td>Dylan Arias</td>\n",
       "      <td>Hill, Nelson and Gonzalez</td>\n",
       "      <td>530000</td>\n",
       "      <td>550 Garcia Track Suite 262\\nSouth Sydneyburgh,...</td>\n",
       "      <td>True</td>\n",
       "      <td>500k-1M USD</td>\n",
       "    </tr>\n",
       "    <tr>\n",
       "      <th>1</th>\n",
       "      <td>Jill Carr</td>\n",
       "      <td>Stewart, Hensley and Perez</td>\n",
       "      <td>620000</td>\n",
       "      <td>1318 Mckenzie Wells Suite 916\\nNew Aprilboroug...</td>\n",
       "      <td>True</td>\n",
       "      <td>500k-1M USD</td>\n",
       "    </tr>\n",
       "    <tr>\n",
       "      <th>2</th>\n",
       "      <td>Sabrina Henderson</td>\n",
       "      <td>Norris Inc</td>\n",
       "      <td>610000</td>\n",
       "      <td>03100 Ian Highway Apt. 317\\nAlbertmouth, CT 47872</td>\n",
       "      <td>True</td>\n",
       "      <td>500k-1M USD</td>\n",
       "    </tr>\n",
       "    <tr>\n",
       "      <th>3</th>\n",
       "      <td>Ana Alexander</td>\n",
       "      <td>Torres-Ortiz</td>\n",
       "      <td>320000</td>\n",
       "      <td>8157 William Street Apt. 594\\nMillermouth, OR ...</td>\n",
       "      <td>False</td>\n",
       "      <td>0k-500k USD</td>\n",
       "    </tr>\n",
       "    <tr>\n",
       "      <th>4</th>\n",
       "      <td>Eric Contreras</td>\n",
       "      <td>Wilkerson, Wallace and Williams</td>\n",
       "      <td>810000</td>\n",
       "      <td>294 Johnson Mews\\nNew Sarah, PA 52505</td>\n",
       "      <td>True</td>\n",
       "      <td>500k-1M USD</td>\n",
       "    </tr>\n",
       "  </tbody>\n",
       "</table>\n",
       "</div>"
      ],
      "text/plain": [
       "                name                          company  salary  \\\n",
       "0        Dylan Arias        Hill, Nelson and Gonzalez  530000   \n",
       "1          Jill Carr       Stewart, Hensley and Perez  620000   \n",
       "2  Sabrina Henderson                       Norris Inc  610000   \n",
       "3      Ana Alexander                     Torres-Ortiz  320000   \n",
       "4     Eric Contreras  Wilkerson, Wallace and Williams  810000   \n",
       "\n",
       "                                             address  above500k       status  \n",
       "0  550 Garcia Track Suite 262\\nSouth Sydneyburgh,...       True  500k-1M USD  \n",
       "1  1318 Mckenzie Wells Suite 916\\nNew Aprilboroug...       True  500k-1M USD  \n",
       "2  03100 Ian Highway Apt. 317\\nAlbertmouth, CT 47872       True  500k-1M USD  \n",
       "3  8157 William Street Apt. 594\\nMillermouth, OR ...      False  0k-500k USD  \n",
       "4              294 Johnson Mews\\nNew Sarah, PA 52505       True  500k-1M USD  "
      ]
     },
     "execution_count": 17,
     "metadata": {},
     "output_type": "execute_result"
    }
   ],
   "source": [
    "df['status'] = df.salary.apply(lambda x:'0k-500k USD' if x in range(0,500000) else '500k-1M USD')\n",
    "\n",
    "# Now lets see our data frame\n",
    "df.head()"
   ]
  },
  {
   "cell_type": "markdown",
   "metadata": {},
   "source": [
    "Now Lets say we wan't to save our data frame in csv format  \n",
    "We can do so by following steps  "
   ]
  },
  {
   "cell_type": "code",
   "execution_count": 18,
   "metadata": {
    "id": "K1iCldU-KL-o"
   },
   "outputs": [],
   "source": [
    "\n",
    "df.to_csv('fakedata.csv', index = None) #I am not preserving index here"
   ]
  },
  {
   "cell_type": "code",
   "execution_count": 19,
   "metadata": {
    "id": "JbEygJhDKaYL"
   },
   "outputs": [
    {
     "name": "stdout",
     "output_type": "stream",
     "text": [
      "\u001b[34mBike-Sharing-Dataset\u001b[m\u001b[m/          README.md\r\n",
      "BikeSharingDataser_Readme.txt  day.csv\r\n",
      "HW1-Solution.ipynb             day_output.csv\r\n",
      "HW1.ipynb                      fakedata.csv\r\n",
      "HW2-Solution.ipynb             hour.csv\r\n",
      "HW2.ipynb                      rdu-weather-history.csv\r\n",
      "HW3.ipynb                      weather.csv\r\n"
     ]
    }
   ],
   "source": [
    "# Lets see if we have saved the data frame \n",
    "%ls"
   ]
  },
  {
   "cell_type": "code",
   "execution_count": 20,
   "metadata": {
    "id": "F03AckLBKwUF"
   },
   "outputs": [
    {
     "data": {
      "text/html": [
       "<div>\n",
       "<style scoped>\n",
       "    .dataframe tbody tr th:only-of-type {\n",
       "        vertical-align: middle;\n",
       "    }\n",
       "\n",
       "    .dataframe tbody tr th {\n",
       "        vertical-align: top;\n",
       "    }\n",
       "\n",
       "    .dataframe thead th {\n",
       "        text-align: right;\n",
       "    }\n",
       "</style>\n",
       "<table border=\"1\" class=\"dataframe\">\n",
       "  <thead>\n",
       "    <tr style=\"text-align: right;\">\n",
       "      <th></th>\n",
       "      <th>name</th>\n",
       "      <th>company</th>\n",
       "      <th>salary</th>\n",
       "      <th>address</th>\n",
       "      <th>above500k</th>\n",
       "      <th>status</th>\n",
       "    </tr>\n",
       "  </thead>\n",
       "  <tbody>\n",
       "    <tr>\n",
       "      <th>0</th>\n",
       "      <td>Dylan Arias</td>\n",
       "      <td>Hill, Nelson and Gonzalez</td>\n",
       "      <td>530000</td>\n",
       "      <td>550 Garcia Track Suite 262\\nSouth Sydneyburgh,...</td>\n",
       "      <td>True</td>\n",
       "      <td>500k-1M USD</td>\n",
       "    </tr>\n",
       "    <tr>\n",
       "      <th>1</th>\n",
       "      <td>Jill Carr</td>\n",
       "      <td>Stewart, Hensley and Perez</td>\n",
       "      <td>620000</td>\n",
       "      <td>1318 Mckenzie Wells Suite 916\\nNew Aprilboroug...</td>\n",
       "      <td>True</td>\n",
       "      <td>500k-1M USD</td>\n",
       "    </tr>\n",
       "    <tr>\n",
       "      <th>2</th>\n",
       "      <td>Sabrina Henderson</td>\n",
       "      <td>Norris Inc</td>\n",
       "      <td>610000</td>\n",
       "      <td>03100 Ian Highway Apt. 317\\nAlbertmouth, CT 47872</td>\n",
       "      <td>True</td>\n",
       "      <td>500k-1M USD</td>\n",
       "    </tr>\n",
       "    <tr>\n",
       "      <th>3</th>\n",
       "      <td>Ana Alexander</td>\n",
       "      <td>Torres-Ortiz</td>\n",
       "      <td>320000</td>\n",
       "      <td>8157 William Street Apt. 594\\nMillermouth, OR ...</td>\n",
       "      <td>False</td>\n",
       "      <td>0k-500k USD</td>\n",
       "    </tr>\n",
       "    <tr>\n",
       "      <th>4</th>\n",
       "      <td>Eric Contreras</td>\n",
       "      <td>Wilkerson, Wallace and Williams</td>\n",
       "      <td>810000</td>\n",
       "      <td>294 Johnson Mews\\nNew Sarah, PA 52505</td>\n",
       "      <td>True</td>\n",
       "      <td>500k-1M USD</td>\n",
       "    </tr>\n",
       "  </tbody>\n",
       "</table>\n",
       "</div>"
      ],
      "text/plain": [
       "                name                          company  salary  \\\n",
       "0        Dylan Arias        Hill, Nelson and Gonzalez  530000   \n",
       "1          Jill Carr       Stewart, Hensley and Perez  620000   \n",
       "2  Sabrina Henderson                       Norris Inc  610000   \n",
       "3      Ana Alexander                     Torres-Ortiz  320000   \n",
       "4     Eric Contreras  Wilkerson, Wallace and Williams  810000   \n",
       "\n",
       "                                             address  above500k       status  \n",
       "0  550 Garcia Track Suite 262\\nSouth Sydneyburgh,...       True  500k-1M USD  \n",
       "1  1318 Mckenzie Wells Suite 916\\nNew Aprilboroug...       True  500k-1M USD  \n",
       "2  03100 Ian Highway Apt. 317\\nAlbertmouth, CT 47872       True  500k-1M USD  \n",
       "3  8157 William Street Apt. 594\\nMillermouth, OR ...      False  0k-500k USD  \n",
       "4              294 Johnson Mews\\nNew Sarah, PA 52505       True  500k-1M USD  "
      ]
     },
     "execution_count": 20,
     "metadata": {},
     "output_type": "execute_result"
    }
   ],
   "source": [
    "# Now we can read this data frame as well\n",
    "newdf = pd.read_csv('fakedata.csv')\n",
    "newdf.head()"
   ]
  },
  {
   "cell_type": "markdown",
   "metadata": {},
   "source": [
    "### Well there are many more stuff to learn in panda data frame  \n",
    "But for now you will be doing something similar above  \n",
    "Following exercise will give you some advance concept in panda dataframe.  \n",
    "you will be asked few things to code at last.  "
   ]
  },
  {
   "cell_type": "markdown",
   "metadata": {},
   "source": [
    "### First lets download the data set\n",
    "### https://data.townofcary.org/api/v2/catalog/datasets/rdu-weather-history/exports/csv"
   ]
  },
  {
   "cell_type": "code",
   "execution_count": 21,
   "metadata": {
    "id": "nwHvmfCYQS9W"
   },
   "outputs": [
    {
     "data": {
      "text/plain": [
       "(4377, 28)"
      ]
     },
     "execution_count": 21,
     "metadata": {},
     "output_type": "execute_result"
    }
   ],
   "source": [
    "import pandas as pd\n",
    "df = pd.read_csv('rdu-weather-history.csv', sep = ';')\n",
    "# Lets see the size of our data\n",
    "df.shape"
   ]
  },
  {
   "cell_type": "code",
   "execution_count": 22,
   "metadata": {
    "id": "tKCCP_mEQVmF"
   },
   "outputs": [
    {
     "data": {
      "text/html": [
       "<div>\n",
       "<style scoped>\n",
       "    .dataframe tbody tr th:only-of-type {\n",
       "        vertical-align: middle;\n",
       "    }\n",
       "\n",
       "    .dataframe tbody tr th {\n",
       "        vertical-align: top;\n",
       "    }\n",
       "\n",
       "    .dataframe thead th {\n",
       "        text-align: right;\n",
       "    }\n",
       "</style>\n",
       "<table border=\"1\" class=\"dataframe\">\n",
       "  <thead>\n",
       "    <tr style=\"text-align: right;\">\n",
       "      <th></th>\n",
       "      <th>date</th>\n",
       "      <th>temperaturemin</th>\n",
       "      <th>temperaturemax</th>\n",
       "      <th>precipitation</th>\n",
       "      <th>snowfall</th>\n",
       "      <th>snowdepth</th>\n",
       "      <th>avgwindspeed</th>\n",
       "      <th>fastest2minwinddir</th>\n",
       "      <th>fastest2minwindspeed</th>\n",
       "      <th>fastest5secwinddir</th>\n",
       "      <th>...</th>\n",
       "      <th>drizzle</th>\n",
       "      <th>snow</th>\n",
       "      <th>freezingrain</th>\n",
       "      <th>smokehaze</th>\n",
       "      <th>thunder</th>\n",
       "      <th>highwind</th>\n",
       "      <th>hail</th>\n",
       "      <th>blowingsnow</th>\n",
       "      <th>dust</th>\n",
       "      <th>freezingfog</th>\n",
       "    </tr>\n",
       "  </thead>\n",
       "  <tbody>\n",
       "    <tr>\n",
       "      <th>0</th>\n",
       "      <td>2009-01-02</td>\n",
       "      <td>27</td>\n",
       "      <td>42</td>\n",
       "      <td>0.05</td>\n",
       "      <td>0.0</td>\n",
       "      <td>0.0</td>\n",
       "      <td>6.26</td>\n",
       "      <td>220</td>\n",
       "      <td>14.1</td>\n",
       "      <td>NaN</td>\n",
       "      <td>...</td>\n",
       "      <td>NaN</td>\n",
       "      <td>NaN</td>\n",
       "      <td>NaN</td>\n",
       "      <td>NaN</td>\n",
       "      <td>NaN</td>\n",
       "      <td>NaN</td>\n",
       "      <td>Present</td>\n",
       "      <td>NaN</td>\n",
       "      <td>NaN</td>\n",
       "      <td>NaN</td>\n",
       "    </tr>\n",
       "    <tr>\n",
       "      <th>1</th>\n",
       "      <td>2009-01-16</td>\n",
       "      <td>15</td>\n",
       "      <td>28</td>\n",
       "      <td>0.00</td>\n",
       "      <td>0.0</td>\n",
       "      <td>0.0</td>\n",
       "      <td>4.47</td>\n",
       "      <td>300</td>\n",
       "      <td>13.0</td>\n",
       "      <td>NaN</td>\n",
       "      <td>...</td>\n",
       "      <td>NaN</td>\n",
       "      <td>NaN</td>\n",
       "      <td>NaN</td>\n",
       "      <td>NaN</td>\n",
       "      <td>NaN</td>\n",
       "      <td>NaN</td>\n",
       "      <td>NaN</td>\n",
       "      <td>NaN</td>\n",
       "      <td>NaN</td>\n",
       "      <td>NaN</td>\n",
       "    </tr>\n",
       "    <tr>\n",
       "      <th>2</th>\n",
       "      <td>2009-01-18</td>\n",
       "      <td>32</td>\n",
       "      <td>41</td>\n",
       "      <td>0.00</td>\n",
       "      <td>0.0</td>\n",
       "      <td>0.0</td>\n",
       "      <td>10.51</td>\n",
       "      <td>210</td>\n",
       "      <td>17.0</td>\n",
       "      <td>NaN</td>\n",
       "      <td>...</td>\n",
       "      <td>NaN</td>\n",
       "      <td>NaN</td>\n",
       "      <td>NaN</td>\n",
       "      <td>NaN</td>\n",
       "      <td>NaN</td>\n",
       "      <td>NaN</td>\n",
       "      <td>Present</td>\n",
       "      <td>NaN</td>\n",
       "      <td>NaN</td>\n",
       "      <td>NaN</td>\n",
       "    </tr>\n",
       "    <tr>\n",
       "      <th>3</th>\n",
       "      <td>2009-01-23</td>\n",
       "      <td>31</td>\n",
       "      <td>60</td>\n",
       "      <td>0.00</td>\n",
       "      <td>0.0</td>\n",
       "      <td>0.0</td>\n",
       "      <td>8.05</td>\n",
       "      <td>240</td>\n",
       "      <td>17.0</td>\n",
       "      <td>NaN</td>\n",
       "      <td>...</td>\n",
       "      <td>NaN</td>\n",
       "      <td>NaN</td>\n",
       "      <td>NaN</td>\n",
       "      <td>NaN</td>\n",
       "      <td>NaN</td>\n",
       "      <td>NaN</td>\n",
       "      <td>NaN</td>\n",
       "      <td>NaN</td>\n",
       "      <td>NaN</td>\n",
       "      <td>NaN</td>\n",
       "    </tr>\n",
       "    <tr>\n",
       "      <th>4</th>\n",
       "      <td>2009-02-09</td>\n",
       "      <td>40</td>\n",
       "      <td>66</td>\n",
       "      <td>0.00</td>\n",
       "      <td>0.0</td>\n",
       "      <td>0.0</td>\n",
       "      <td>6.04</td>\n",
       "      <td>100</td>\n",
       "      <td>14.1</td>\n",
       "      <td>NaN</td>\n",
       "      <td>...</td>\n",
       "      <td>NaN</td>\n",
       "      <td>NaN</td>\n",
       "      <td>NaN</td>\n",
       "      <td>NaN</td>\n",
       "      <td>NaN</td>\n",
       "      <td>NaN</td>\n",
       "      <td>NaN</td>\n",
       "      <td>NaN</td>\n",
       "      <td>NaN</td>\n",
       "      <td>NaN</td>\n",
       "    </tr>\n",
       "  </tbody>\n",
       "</table>\n",
       "<p>5 rows × 28 columns</p>\n",
       "</div>"
      ],
      "text/plain": [
       "         date  temperaturemin  temperaturemax  precipitation  snowfall  \\\n",
       "0  2009-01-02              27              42           0.05       0.0   \n",
       "1  2009-01-16              15              28           0.00       0.0   \n",
       "2  2009-01-18              32              41           0.00       0.0   \n",
       "3  2009-01-23              31              60           0.00       0.0   \n",
       "4  2009-02-09              40              66           0.00       0.0   \n",
       "\n",
       "   snowdepth  avgwindspeed  fastest2minwinddir  fastest2minwindspeed  \\\n",
       "0        0.0          6.26                 220                  14.1   \n",
       "1        0.0          4.47                 300                  13.0   \n",
       "2        0.0         10.51                 210                  17.0   \n",
       "3        0.0          8.05                 240                  17.0   \n",
       "4        0.0          6.04                 100                  14.1   \n",
       "\n",
       "   fastest5secwinddir  ...  drizzle snow freezingrain smokehaze thunder  \\\n",
       "0                 NaN  ...      NaN  NaN          NaN       NaN     NaN   \n",
       "1                 NaN  ...      NaN  NaN          NaN       NaN     NaN   \n",
       "2                 NaN  ...      NaN  NaN          NaN       NaN     NaN   \n",
       "3                 NaN  ...      NaN  NaN          NaN       NaN     NaN   \n",
       "4                 NaN  ...      NaN  NaN          NaN       NaN     NaN   \n",
       "\n",
       "  highwind     hail blowingsnow dust freezingfog  \n",
       "0      NaN  Present         NaN  NaN         NaN  \n",
       "1      NaN      NaN         NaN  NaN         NaN  \n",
       "2      NaN  Present         NaN  NaN         NaN  \n",
       "3      NaN      NaN         NaN  NaN         NaN  \n",
       "4      NaN      NaN         NaN  NaN         NaN  \n",
       "\n",
       "[5 rows x 28 columns]"
      ]
     },
     "execution_count": 22,
     "metadata": {},
     "output_type": "execute_result"
    }
   ],
   "source": [
    "df.head()"
   ]
  },
  {
   "cell_type": "markdown",
   "metadata": {},
   "source": [
    "Well this is a public data. There might be many missing values.  \n",
    "Lets see these missing values  "
   ]
  },
  {
   "cell_type": "code",
   "execution_count": 23,
   "metadata": {
    "id": "QJ1HLBTeTGVE"
   },
   "outputs": [
    {
     "data": {
      "text/plain": [
       "date                       0\n",
       "temperaturemin             0\n",
       "temperaturemax             0\n",
       "precipitation              0\n",
       "snowfall                   2\n",
       "snowdepth                 25\n",
       "avgwindspeed               0\n",
       "fastest2minwinddir         0\n",
       "fastest2minwindspeed       0\n",
       "fastest5secwinddir      4377\n",
       "fastest5secwindspeed    4377\n",
       "fog                     2477\n",
       "fogheavy                4133\n",
       "mist                    3874\n",
       "rain                    3776\n",
       "fogground               4368\n",
       "ice                     4335\n",
       "glaze                   4361\n",
       "drizzle                 4210\n",
       "snow                    4343\n",
       "freezingrain            4375\n",
       "smokehaze               4150\n",
       "thunder                 3841\n",
       "highwind                4376\n",
       "hail                    4142\n",
       "blowingsnow             4337\n",
       "dust                    4341\n",
       "freezingfog             4375\n",
       "dtype: int64"
      ]
     },
     "execution_count": 23,
     "metadata": {},
     "output_type": "execute_result"
    }
   ],
   "source": [
    "df.isna().sum()"
   ]
  },
  {
   "cell_type": "code",
   "execution_count": 24,
   "metadata": {
    "id": "unXPA5BiR58H",
    "scrolled": true
   },
   "outputs": [
    {
     "data": {
      "text/plain": [
       "Index(['date', 'temperaturemin', 'temperaturemax', 'precipitation', 'snowfall',\n",
       "       'snowdepth', 'avgwindspeed', 'fastest2minwinddir',\n",
       "       'fastest2minwindspeed', 'fastest5secwinddir', 'fastest5secwindspeed',\n",
       "       'fog', 'fogheavy', 'mist', 'rain', 'fogground', 'ice', 'glaze',\n",
       "       'drizzle', 'snow', 'freezingrain', 'smokehaze', 'thunder', 'highwind',\n",
       "       'hail', 'blowingsnow', 'dust', 'freezingfog'],\n",
       "      dtype='object')"
      ]
     },
     "execution_count": 24,
     "metadata": {},
     "output_type": "execute_result"
    }
   ],
   "source": [
    "df.columns # Lets see columns of our data"
   ]
  },
  {
   "cell_type": "markdown",
   "metadata": {},
   "source": [
    "### One important thing to notice here is following columns \n",
    "\n",
    "'fog', 'fogheavy', 'mist', 'rain', 'fogground', 'ice', 'glaze',\n",
    "'drizzle', 'snow', 'freezingrain', 'smokehaze', 'thunder', 'highwind',\n",
    "'hail', 'blowingsnow', 'dust', 'freezingfog'\n",
    "\n",
    "These columns are weather information, it will be lot more easier to see these values in one single column called weather. So we can do this by following code, observe closely what we are doing."
   ]
  },
  {
   "cell_type": "code",
   "execution_count": 25,
   "metadata": {},
   "outputs": [],
   "source": [
    "tidydf = pd.melt(df,['date', 'temperaturemin', 'temperaturemax', 'precipitation', 'snowfall',\n",
    "       'snowdepth', 'avgwindspeed', 'fastest2minwinddir',\n",
    "       'fastest2minwindspeed', 'fastest5secwinddir', 'fastest5secwindspeed'],var_name=\"weather\",value_name=\"status\")"
   ]
  },
  {
   "cell_type": "code",
   "execution_count": 26,
   "metadata": {
    "id": "zjlU1HWJSD5q",
    "scrolled": false
   },
   "outputs": [
    {
     "data": {
      "text/html": [
       "<div>\n",
       "<style scoped>\n",
       "    .dataframe tbody tr th:only-of-type {\n",
       "        vertical-align: middle;\n",
       "    }\n",
       "\n",
       "    .dataframe tbody tr th {\n",
       "        vertical-align: top;\n",
       "    }\n",
       "\n",
       "    .dataframe thead th {\n",
       "        text-align: right;\n",
       "    }\n",
       "</style>\n",
       "<table border=\"1\" class=\"dataframe\">\n",
       "  <thead>\n",
       "    <tr style=\"text-align: right;\">\n",
       "      <th></th>\n",
       "      <th>date</th>\n",
       "      <th>temperaturemin</th>\n",
       "      <th>temperaturemax</th>\n",
       "      <th>precipitation</th>\n",
       "      <th>snowfall</th>\n",
       "      <th>snowdepth</th>\n",
       "      <th>avgwindspeed</th>\n",
       "      <th>fastest2minwinddir</th>\n",
       "      <th>fastest2minwindspeed</th>\n",
       "      <th>fastest5secwinddir</th>\n",
       "      <th>fastest5secwindspeed</th>\n",
       "      <th>weather</th>\n",
       "      <th>status</th>\n",
       "    </tr>\n",
       "  </thead>\n",
       "  <tbody>\n",
       "    <tr>\n",
       "      <th>0</th>\n",
       "      <td>2009-01-02</td>\n",
       "      <td>27</td>\n",
       "      <td>42</td>\n",
       "      <td>0.05</td>\n",
       "      <td>0.0</td>\n",
       "      <td>0.0</td>\n",
       "      <td>6.26</td>\n",
       "      <td>220</td>\n",
       "      <td>14.1</td>\n",
       "      <td>NaN</td>\n",
       "      <td>NaN</td>\n",
       "      <td>fog</td>\n",
       "      <td>Present</td>\n",
       "    </tr>\n",
       "    <tr>\n",
       "      <th>1</th>\n",
       "      <td>2009-01-16</td>\n",
       "      <td>15</td>\n",
       "      <td>28</td>\n",
       "      <td>0.00</td>\n",
       "      <td>0.0</td>\n",
       "      <td>0.0</td>\n",
       "      <td>4.47</td>\n",
       "      <td>300</td>\n",
       "      <td>13.0</td>\n",
       "      <td>NaN</td>\n",
       "      <td>NaN</td>\n",
       "      <td>fog</td>\n",
       "      <td>NaN</td>\n",
       "    </tr>\n",
       "    <tr>\n",
       "      <th>2</th>\n",
       "      <td>2009-01-18</td>\n",
       "      <td>32</td>\n",
       "      <td>41</td>\n",
       "      <td>0.00</td>\n",
       "      <td>0.0</td>\n",
       "      <td>0.0</td>\n",
       "      <td>10.51</td>\n",
       "      <td>210</td>\n",
       "      <td>17.0</td>\n",
       "      <td>NaN</td>\n",
       "      <td>NaN</td>\n",
       "      <td>fog</td>\n",
       "      <td>Present</td>\n",
       "    </tr>\n",
       "    <tr>\n",
       "      <th>3</th>\n",
       "      <td>2009-01-23</td>\n",
       "      <td>31</td>\n",
       "      <td>60</td>\n",
       "      <td>0.00</td>\n",
       "      <td>0.0</td>\n",
       "      <td>0.0</td>\n",
       "      <td>8.05</td>\n",
       "      <td>240</td>\n",
       "      <td>17.0</td>\n",
       "      <td>NaN</td>\n",
       "      <td>NaN</td>\n",
       "      <td>fog</td>\n",
       "      <td>NaN</td>\n",
       "    </tr>\n",
       "    <tr>\n",
       "      <th>4</th>\n",
       "      <td>2009-02-09</td>\n",
       "      <td>40</td>\n",
       "      <td>66</td>\n",
       "      <td>0.00</td>\n",
       "      <td>0.0</td>\n",
       "      <td>0.0</td>\n",
       "      <td>6.04</td>\n",
       "      <td>100</td>\n",
       "      <td>14.1</td>\n",
       "      <td>NaN</td>\n",
       "      <td>NaN</td>\n",
       "      <td>fog</td>\n",
       "      <td>NaN</td>\n",
       "    </tr>\n",
       "  </tbody>\n",
       "</table>\n",
       "</div>"
      ],
      "text/plain": [
       "         date  temperaturemin  temperaturemax  precipitation  snowfall  \\\n",
       "0  2009-01-02              27              42           0.05       0.0   \n",
       "1  2009-01-16              15              28           0.00       0.0   \n",
       "2  2009-01-18              32              41           0.00       0.0   \n",
       "3  2009-01-23              31              60           0.00       0.0   \n",
       "4  2009-02-09              40              66           0.00       0.0   \n",
       "\n",
       "   snowdepth  avgwindspeed  fastest2minwinddir  fastest2minwindspeed  \\\n",
       "0        0.0          6.26                 220                  14.1   \n",
       "1        0.0          4.47                 300                  13.0   \n",
       "2        0.0         10.51                 210                  17.0   \n",
       "3        0.0          8.05                 240                  17.0   \n",
       "4        0.0          6.04                 100                  14.1   \n",
       "\n",
       "   fastest5secwinddir  fastest5secwindspeed weather   status  \n",
       "0                 NaN                   NaN     fog  Present  \n",
       "1                 NaN                   NaN     fog      NaN  \n",
       "2                 NaN                   NaN     fog  Present  \n",
       "3                 NaN                   NaN     fog      NaN  \n",
       "4                 NaN                   NaN     fog      NaN  "
      ]
     },
     "execution_count": 26,
     "metadata": {},
     "output_type": "execute_result"
    }
   ],
   "source": [
    "tidydf.head()"
   ]
  },
  {
   "cell_type": "markdown",
   "metadata": {},
   "source": [
    "### Now we don't need rows that has status 'No' so we will only select rows with 'Yes' status. Moreover, now we don't  need status column any more so lets drop that column as well"
   ]
  },
  {
   "cell_type": "code",
   "execution_count": 27,
   "metadata": {
    "id": "3BEf7dbaSJUv"
   },
   "outputs": [
    {
     "data": {
      "text/html": [
       "<div>\n",
       "<style scoped>\n",
       "    .dataframe tbody tr th:only-of-type {\n",
       "        vertical-align: middle;\n",
       "    }\n",
       "\n",
       "    .dataframe tbody tr th {\n",
       "        vertical-align: top;\n",
       "    }\n",
       "\n",
       "    .dataframe thead th {\n",
       "        text-align: right;\n",
       "    }\n",
       "</style>\n",
       "<table border=\"1\" class=\"dataframe\">\n",
       "  <thead>\n",
       "    <tr style=\"text-align: right;\">\n",
       "      <th></th>\n",
       "      <th>date</th>\n",
       "      <th>temperaturemin</th>\n",
       "      <th>temperaturemax</th>\n",
       "      <th>precipitation</th>\n",
       "      <th>snowfall</th>\n",
       "      <th>snowdepth</th>\n",
       "      <th>avgwindspeed</th>\n",
       "      <th>fastest2minwinddir</th>\n",
       "      <th>fastest2minwindspeed</th>\n",
       "      <th>fastest5secwinddir</th>\n",
       "      <th>fastest5secwindspeed</th>\n",
       "      <th>weather</th>\n",
       "    </tr>\n",
       "  </thead>\n",
       "  <tbody>\n",
       "    <tr>\n",
       "      <th>0</th>\n",
       "      <td>2009-01-02</td>\n",
       "      <td>27</td>\n",
       "      <td>42</td>\n",
       "      <td>0.05</td>\n",
       "      <td>0.0</td>\n",
       "      <td>0.0</td>\n",
       "      <td>6.26</td>\n",
       "      <td>220</td>\n",
       "      <td>14.1</td>\n",
       "      <td>NaN</td>\n",
       "      <td>NaN</td>\n",
       "      <td>fog</td>\n",
       "    </tr>\n",
       "    <tr>\n",
       "      <th>2</th>\n",
       "      <td>2009-01-18</td>\n",
       "      <td>32</td>\n",
       "      <td>41</td>\n",
       "      <td>0.00</td>\n",
       "      <td>0.0</td>\n",
       "      <td>0.0</td>\n",
       "      <td>10.51</td>\n",
       "      <td>210</td>\n",
       "      <td>17.0</td>\n",
       "      <td>NaN</td>\n",
       "      <td>NaN</td>\n",
       "      <td>fog</td>\n",
       "    </tr>\n",
       "    <tr>\n",
       "      <th>5</th>\n",
       "      <td>2009-02-10</td>\n",
       "      <td>48</td>\n",
       "      <td>73</td>\n",
       "      <td>0.00</td>\n",
       "      <td>0.0</td>\n",
       "      <td>0.0</td>\n",
       "      <td>10.51</td>\n",
       "      <td>230</td>\n",
       "      <td>25.1</td>\n",
       "      <td>NaN</td>\n",
       "      <td>NaN</td>\n",
       "      <td>fog</td>\n",
       "    </tr>\n",
       "    <tr>\n",
       "      <th>9</th>\n",
       "      <td>2009-02-19</td>\n",
       "      <td>34</td>\n",
       "      <td>58</td>\n",
       "      <td>0.00</td>\n",
       "      <td>0.0</td>\n",
       "      <td>0.0</td>\n",
       "      <td>10.29</td>\n",
       "      <td>300</td>\n",
       "      <td>21.0</td>\n",
       "      <td>NaN</td>\n",
       "      <td>NaN</td>\n",
       "      <td>fog</td>\n",
       "    </tr>\n",
       "    <tr>\n",
       "      <th>11</th>\n",
       "      <td>2009-03-01</td>\n",
       "      <td>35</td>\n",
       "      <td>38</td>\n",
       "      <td>1.38</td>\n",
       "      <td>0.0</td>\n",
       "      <td>0.0</td>\n",
       "      <td>12.75</td>\n",
       "      <td>50</td>\n",
       "      <td>23.0</td>\n",
       "      <td>NaN</td>\n",
       "      <td>NaN</td>\n",
       "      <td>fog</td>\n",
       "    </tr>\n",
       "  </tbody>\n",
       "</table>\n",
       "</div>"
      ],
      "text/plain": [
       "          date  temperaturemin  temperaturemax  precipitation  snowfall  \\\n",
       "0   2009-01-02              27              42           0.05       0.0   \n",
       "2   2009-01-18              32              41           0.00       0.0   \n",
       "5   2009-02-10              48              73           0.00       0.0   \n",
       "9   2009-02-19              34              58           0.00       0.0   \n",
       "11  2009-03-01              35              38           1.38       0.0   \n",
       "\n",
       "    snowdepth  avgwindspeed  fastest2minwinddir  fastest2minwindspeed  \\\n",
       "0         0.0          6.26                 220                  14.1   \n",
       "2         0.0         10.51                 210                  17.0   \n",
       "5         0.0         10.51                 230                  25.1   \n",
       "9         0.0         10.29                 300                  21.0   \n",
       "11        0.0         12.75                  50                  23.0   \n",
       "\n",
       "    fastest5secwinddir  fastest5secwindspeed weather  \n",
       "0                  NaN                   NaN     fog  \n",
       "2                  NaN                   NaN     fog  \n",
       "5                  NaN                   NaN     fog  \n",
       "9                  NaN                   NaN     fog  \n",
       "11                 NaN                   NaN     fog  "
      ]
     },
     "execution_count": 27,
     "metadata": {},
     "output_type": "execute_result"
    }
   ],
   "source": [
    "\n",
    "df = tidydf[tidydf.status == 'Present']\n",
    "df = df.drop(columns = ['status'])\n",
    "df.head()"
   ]
  },
  {
   "cell_type": "code",
   "execution_count": 28,
   "metadata": {
    "id": "bwGz0jR4S3_4",
    "scrolled": true
   },
   "outputs": [
    {
     "data": {
      "text/html": [
       "<div>\n",
       "<style scoped>\n",
       "    .dataframe tbody tr th:only-of-type {\n",
       "        vertical-align: middle;\n",
       "    }\n",
       "\n",
       "    .dataframe tbody tr th {\n",
       "        vertical-align: top;\n",
       "    }\n",
       "\n",
       "    .dataframe thead th {\n",
       "        text-align: right;\n",
       "    }\n",
       "</style>\n",
       "<table border=\"1\" class=\"dataframe\">\n",
       "  <thead>\n",
       "    <tr style=\"text-align: right;\">\n",
       "      <th></th>\n",
       "      <th>temperaturemin</th>\n",
       "      <th>temperaturemax</th>\n",
       "      <th>precipitation</th>\n",
       "      <th>snowfall</th>\n",
       "      <th>snowdepth</th>\n",
       "      <th>avgwindspeed</th>\n",
       "      <th>fastest2minwinddir</th>\n",
       "      <th>fastest2minwindspeed</th>\n",
       "      <th>fastest5secwinddir</th>\n",
       "      <th>fastest5secwindspeed</th>\n",
       "    </tr>\n",
       "  </thead>\n",
       "  <tbody>\n",
       "    <tr>\n",
       "      <th>count</th>\n",
       "      <td>4595.000000</td>\n",
       "      <td>4595.000000</td>\n",
       "      <td>4595.000000</td>\n",
       "      <td>4595.000000</td>\n",
       "      <td>4572.000000</td>\n",
       "      <td>4595.000000</td>\n",
       "      <td>4595.000000</td>\n",
       "      <td>4595.000000</td>\n",
       "      <td>0.0</td>\n",
       "      <td>0.0</td>\n",
       "    </tr>\n",
       "    <tr>\n",
       "      <th>mean</th>\n",
       "      <td>54.486398</td>\n",
       "      <td>72.810229</td>\n",
       "      <td>0.276603</td>\n",
       "      <td>0.042503</td>\n",
       "      <td>0.030621</td>\n",
       "      <td>6.075976</td>\n",
       "      <td>164.970620</td>\n",
       "      <td>16.858390</td>\n",
       "      <td>NaN</td>\n",
       "      <td>NaN</td>\n",
       "    </tr>\n",
       "    <tr>\n",
       "      <th>std</th>\n",
       "      <td>15.218435</td>\n",
       "      <td>16.970579</td>\n",
       "      <td>0.454832</td>\n",
       "      <td>0.372524</td>\n",
       "      <td>0.279306</td>\n",
       "      <td>3.049237</td>\n",
       "      <td>92.729226</td>\n",
       "      <td>5.982619</td>\n",
       "      <td>NaN</td>\n",
       "      <td>NaN</td>\n",
       "    </tr>\n",
       "    <tr>\n",
       "      <th>min</th>\n",
       "      <td>9.000000</td>\n",
       "      <td>27.000000</td>\n",
       "      <td>0.000000</td>\n",
       "      <td>0.000000</td>\n",
       "      <td>0.000000</td>\n",
       "      <td>0.000000</td>\n",
       "      <td>10.000000</td>\n",
       "      <td>4.900000</td>\n",
       "      <td>NaN</td>\n",
       "      <td>NaN</td>\n",
       "    </tr>\n",
       "    <tr>\n",
       "      <th>25%</th>\n",
       "      <td>41.000000</td>\n",
       "      <td>61.000000</td>\n",
       "      <td>0.000000</td>\n",
       "      <td>0.000000</td>\n",
       "      <td>0.000000</td>\n",
       "      <td>3.800000</td>\n",
       "      <td>70.000000</td>\n",
       "      <td>13.000000</td>\n",
       "      <td>NaN</td>\n",
       "      <td>NaN</td>\n",
       "    </tr>\n",
       "    <tr>\n",
       "      <th>50%</th>\n",
       "      <td>57.000000</td>\n",
       "      <td>76.000000</td>\n",
       "      <td>0.080000</td>\n",
       "      <td>0.000000</td>\n",
       "      <td>0.000000</td>\n",
       "      <td>5.590000</td>\n",
       "      <td>190.000000</td>\n",
       "      <td>16.100000</td>\n",
       "      <td>NaN</td>\n",
       "      <td>NaN</td>\n",
       "    </tr>\n",
       "    <tr>\n",
       "      <th>75%</th>\n",
       "      <td>68.000000</td>\n",
       "      <td>87.000000</td>\n",
       "      <td>0.370000</td>\n",
       "      <td>0.000000</td>\n",
       "      <td>0.000000</td>\n",
       "      <td>7.610000</td>\n",
       "      <td>230.000000</td>\n",
       "      <td>21.000000</td>\n",
       "      <td>NaN</td>\n",
       "      <td>NaN</td>\n",
       "    </tr>\n",
       "    <tr>\n",
       "      <th>max</th>\n",
       "      <td>79.000000</td>\n",
       "      <td>105.000000</td>\n",
       "      <td>6.450000</td>\n",
       "      <td>7.000000</td>\n",
       "      <td>4.000000</td>\n",
       "      <td>20.360000</td>\n",
       "      <td>360.000000</td>\n",
       "      <td>44.100000</td>\n",
       "      <td>NaN</td>\n",
       "      <td>NaN</td>\n",
       "    </tr>\n",
       "  </tbody>\n",
       "</table>\n",
       "</div>"
      ],
      "text/plain": [
       "       temperaturemin  temperaturemax  precipitation     snowfall  \\\n",
       "count     4595.000000     4595.000000    4595.000000  4595.000000   \n",
       "mean        54.486398       72.810229       0.276603     0.042503   \n",
       "std         15.218435       16.970579       0.454832     0.372524   \n",
       "min          9.000000       27.000000       0.000000     0.000000   \n",
       "25%         41.000000       61.000000       0.000000     0.000000   \n",
       "50%         57.000000       76.000000       0.080000     0.000000   \n",
       "75%         68.000000       87.000000       0.370000     0.000000   \n",
       "max         79.000000      105.000000       6.450000     7.000000   \n",
       "\n",
       "         snowdepth  avgwindspeed  fastest2minwinddir  fastest2minwindspeed  \\\n",
       "count  4572.000000   4595.000000         4595.000000           4595.000000   \n",
       "mean      0.030621      6.075976          164.970620             16.858390   \n",
       "std       0.279306      3.049237           92.729226              5.982619   \n",
       "min       0.000000      0.000000           10.000000              4.900000   \n",
       "25%       0.000000      3.800000           70.000000             13.000000   \n",
       "50%       0.000000      5.590000          190.000000             16.100000   \n",
       "75%       0.000000      7.610000          230.000000             21.000000   \n",
       "max       4.000000     20.360000          360.000000             44.100000   \n",
       "\n",
       "       fastest5secwinddir  fastest5secwindspeed  \n",
       "count                 0.0                   0.0  \n",
       "mean                  NaN                   NaN  \n",
       "std                   NaN                   NaN  \n",
       "min                   NaN                   NaN  \n",
       "25%                   NaN                   NaN  \n",
       "50%                   NaN                   NaN  \n",
       "75%                   NaN                   NaN  \n",
       "max                   NaN                   NaN  "
      ]
     },
     "execution_count": 28,
     "metadata": {},
     "output_type": "execute_result"
    }
   ],
   "source": [
    "# Now lets describe this data\n",
    "\n",
    "df.describe()"
   ]
  },
  {
   "cell_type": "markdown",
   "metadata": {
    "id": "dxWrEOL9WdGH"
   },
   "source": [
    "**Q5** Write the code below so that \n",
    "1. Get rid of the following columns in df: 'fastest2minwinddir','fastest2minwindspeed','fastest5secwinddir','fastest5secwindspeed'\n",
    "2. Calculate and add 'avgtemperature' column (Note : avgtemperature is an average of temperaturemin and temperaturemax)\n",
    "3. After completing 2. get rid of two columns 'temperaturemin','temperaturemax'\n",
    "\n",
    "**A5** Write code in the cell below"
   ]
  },
  {
   "cell_type": "code",
   "execution_count": 29,
   "metadata": {
    "id": "nhVYFFNmVEQQ"
   },
   "outputs": [
    {
     "data": {
      "text/html": [
       "<div>\n",
       "<style scoped>\n",
       "    .dataframe tbody tr th:only-of-type {\n",
       "        vertical-align: middle;\n",
       "    }\n",
       "\n",
       "    .dataframe tbody tr th {\n",
       "        vertical-align: top;\n",
       "    }\n",
       "\n",
       "    .dataframe thead th {\n",
       "        text-align: right;\n",
       "    }\n",
       "</style>\n",
       "<table border=\"1\" class=\"dataframe\">\n",
       "  <thead>\n",
       "    <tr style=\"text-align: right;\">\n",
       "      <th></th>\n",
       "      <th>date</th>\n",
       "      <th>precipitation</th>\n",
       "      <th>snowfall</th>\n",
       "      <th>snowdepth</th>\n",
       "      <th>avgwindspeed</th>\n",
       "      <th>weather</th>\n",
       "      <th>avgtemperature</th>\n",
       "    </tr>\n",
       "  </thead>\n",
       "  <tbody>\n",
       "    <tr>\n",
       "      <th>0</th>\n",
       "      <td>2009-01-02</td>\n",
       "      <td>0.05</td>\n",
       "      <td>0.0</td>\n",
       "      <td>0.0</td>\n",
       "      <td>6.26</td>\n",
       "      <td>fog</td>\n",
       "      <td>34.5</td>\n",
       "    </tr>\n",
       "    <tr>\n",
       "      <th>2</th>\n",
       "      <td>2009-01-18</td>\n",
       "      <td>0.00</td>\n",
       "      <td>0.0</td>\n",
       "      <td>0.0</td>\n",
       "      <td>10.51</td>\n",
       "      <td>fog</td>\n",
       "      <td>36.5</td>\n",
       "    </tr>\n",
       "    <tr>\n",
       "      <th>5</th>\n",
       "      <td>2009-02-10</td>\n",
       "      <td>0.00</td>\n",
       "      <td>0.0</td>\n",
       "      <td>0.0</td>\n",
       "      <td>10.51</td>\n",
       "      <td>fog</td>\n",
       "      <td>60.5</td>\n",
       "    </tr>\n",
       "    <tr>\n",
       "      <th>9</th>\n",
       "      <td>2009-02-19</td>\n",
       "      <td>0.00</td>\n",
       "      <td>0.0</td>\n",
       "      <td>0.0</td>\n",
       "      <td>10.29</td>\n",
       "      <td>fog</td>\n",
       "      <td>46.0</td>\n",
       "    </tr>\n",
       "    <tr>\n",
       "      <th>11</th>\n",
       "      <td>2009-03-01</td>\n",
       "      <td>1.38</td>\n",
       "      <td>0.0</td>\n",
       "      <td>0.0</td>\n",
       "      <td>12.75</td>\n",
       "      <td>fog</td>\n",
       "      <td>36.5</td>\n",
       "    </tr>\n",
       "  </tbody>\n",
       "</table>\n",
       "</div>"
      ],
      "text/plain": [
       "          date  precipitation  snowfall  snowdepth  avgwindspeed weather  \\\n",
       "0   2009-01-02           0.05       0.0        0.0          6.26     fog   \n",
       "2   2009-01-18           0.00       0.0        0.0         10.51     fog   \n",
       "5   2009-02-10           0.00       0.0        0.0         10.51     fog   \n",
       "9   2009-02-19           0.00       0.0        0.0         10.29     fog   \n",
       "11  2009-03-01           1.38       0.0        0.0         12.75     fog   \n",
       "\n",
       "    avgtemperature  \n",
       "0             34.5  \n",
       "2             36.5  \n",
       "5             60.5  \n",
       "9             46.0  \n",
       "11            36.5  "
      ]
     },
     "execution_count": 29,
     "metadata": {},
     "output_type": "execute_result"
    }
   ],
   "source": [
    "#A5 Task1:\n",
    "\n",
    "df = df.drop(columns = ['fastest2minwinddir', 'fastest2minwindspeed', 'fastest5secwinddir', \n",
    "                     'fastest5secwindspeed'])\n",
    "\n",
    "# Print the head of the data\n",
    "df.head()\n",
    "\n",
    "#A5 Task2:\n",
    "\n",
    "# Code goes below\n",
    "df['avgtemperature'] = df[['temperaturemin', 'temperaturemax']].mean(axis=1)\n",
    "#avgtemperature = pd.DataFrame(data.mean(), column = ['temperaturemin', 'temperaturemax'])\n",
    "\n",
    "# Print the head of the data\n",
    "df.head()\n",
    "\n",
    "#A5 Task3: \n",
    "\n",
    "# Code goes below\n",
    "df = df.drop(columns = ['temperaturemin', 'temperaturemax'])\n",
    "\n",
    "# Print the head of the data\n",
    "df.head()\n"
   ]
  },
  {
   "cell_type": "markdown",
   "metadata": {},
   "source": [
    "**Q6** Write the code below so that \n",
    "1. calculate average of all the 'avgtemperature' in resulting A5 df\n",
    "   * **Note you can calculate average like this : df['columname'].mean() or df.columname.mean()**) \n",
    "2. Add a new column called as 'avgtemperature_comaprision'\n",
    "  * Note: if 'avgtemperature' is less than 'avgtemp' fill with 'less than global average', and if it is greater fill with 'more than global average'  \n",
    "3. Now save the dataset without index, give a name 'weather.csv'\n",
    "**A6** Write code in the cell below\n"
   ]
  },
  {
   "cell_type": "code",
   "execution_count": 30,
   "metadata": {
    "id": "cSQjh29JewKN"
   },
   "outputs": [],
   "source": [
    "#A6 Task1\n",
    "\n",
    "# Code goes below\n",
    "avgtemp = df['avgtemperature'].mean()\n",
    "#print(avgtemp)\n",
    "\n",
    "#A6 Task2:\n",
    "\n",
    "\n",
    "# Code goes below\n",
    "df['avgtemperature_comaprision'] = df.avgtemperature.apply(lambda x: 'less than global average' if (x < avgtemp)\n",
    "                                                         else 'more than global average')\n",
    "\n",
    "\n",
    "# Print head of your data\n",
    "df.head()\n",
    "\n",
    "#A6 Task3:\n",
    "\n",
    "# Your code goes here\n",
    "\n",
    "df.to_csv('weather.csv', index = None) \n",
    "#%ls"
   ]
  },
  {
   "cell_type": "markdown",
   "metadata": {
    "id": "zzDNDKaapweg"
   },
   "source": []
  },
  {
   "cell_type": "markdown",
   "metadata": {},
   "source": [
    "## Visualization\n",
    "[Matplotlib](https://matplotlib.org/tutorials/index.html) and [Seaborn](https://seaborn.pydata.org/examples/index.html) are popular and very useful visualization libraries. "
   ]
  },
  {
   "cell_type": "code",
   "execution_count": 31,
   "metadata": {},
   "outputs": [],
   "source": [
    "import seaborn as sns\n",
    "# Load an example dataset\n",
    "tips = sns.load_dataset(\"tips\")\n"
   ]
  },
  {
   "cell_type": "code",
   "execution_count": 32,
   "metadata": {},
   "outputs": [
    {
     "data": {
      "text/plain": [
       "<seaborn.axisgrid.FacetGrid at 0x11833e790>"
      ]
     },
     "execution_count": 32,
     "metadata": {},
     "output_type": "execute_result"
    },
    {
     "data": {
      "image/png": "[encoded data removed]",
      "text/plain": [
       "<Figure size 772.5x360 with 2 Axes>"
      ]
     },
     "metadata": {
      "needs_background": "light"
     },
     "output_type": "display_data"
    }
   ],
   "source": [
    "# Create a visualization\n",
    "sns.relplot(\n",
    "    data=tips,\n",
    "    x=\"total_bill\", y=\"tip\", col=\"time\",\n",
    "    hue=\"smoker\", style=\"smoker\", size=\"size\",\n",
    ")"
   ]
  },
  {
   "cell_type": "code",
   "execution_count": 33,
   "metadata": {},
   "outputs": [
    {
     "data": {
      "text/html": [
       "<div>\n",
       "<style scoped>\n",
       "    .dataframe tbody tr th:only-of-type {\n",
       "        vertical-align: middle;\n",
       "    }\n",
       "\n",
       "    .dataframe tbody tr th {\n",
       "        vertical-align: top;\n",
       "    }\n",
       "\n",
       "    .dataframe thead th {\n",
       "        text-align: right;\n",
       "    }\n",
       "</style>\n",
       "<table border=\"1\" class=\"dataframe\">\n",
       "  <thead>\n",
       "    <tr style=\"text-align: right;\">\n",
       "      <th></th>\n",
       "      <th>total_bill</th>\n",
       "      <th>tip</th>\n",
       "      <th>sex</th>\n",
       "      <th>smoker</th>\n",
       "      <th>day</th>\n",
       "      <th>time</th>\n",
       "      <th>size</th>\n",
       "    </tr>\n",
       "  </thead>\n",
       "  <tbody>\n",
       "    <tr>\n",
       "      <th>0</th>\n",
       "      <td>16.99</td>\n",
       "      <td>1.01</td>\n",
       "      <td>Female</td>\n",
       "      <td>No</td>\n",
       "      <td>Sun</td>\n",
       "      <td>Dinner</td>\n",
       "      <td>2</td>\n",
       "    </tr>\n",
       "    <tr>\n",
       "      <th>1</th>\n",
       "      <td>10.34</td>\n",
       "      <td>1.66</td>\n",
       "      <td>Male</td>\n",
       "      <td>No</td>\n",
       "      <td>Sun</td>\n",
       "      <td>Dinner</td>\n",
       "      <td>3</td>\n",
       "    </tr>\n",
       "    <tr>\n",
       "      <th>2</th>\n",
       "      <td>21.01</td>\n",
       "      <td>3.50</td>\n",
       "      <td>Male</td>\n",
       "      <td>No</td>\n",
       "      <td>Sun</td>\n",
       "      <td>Dinner</td>\n",
       "      <td>3</td>\n",
       "    </tr>\n",
       "    <tr>\n",
       "      <th>3</th>\n",
       "      <td>23.68</td>\n",
       "      <td>3.31</td>\n",
       "      <td>Male</td>\n",
       "      <td>No</td>\n",
       "      <td>Sun</td>\n",
       "      <td>Dinner</td>\n",
       "      <td>2</td>\n",
       "    </tr>\n",
       "    <tr>\n",
       "      <th>4</th>\n",
       "      <td>24.59</td>\n",
       "      <td>3.61</td>\n",
       "      <td>Female</td>\n",
       "      <td>No</td>\n",
       "      <td>Sun</td>\n",
       "      <td>Dinner</td>\n",
       "      <td>4</td>\n",
       "    </tr>\n",
       "  </tbody>\n",
       "</table>\n",
       "</div>"
      ],
      "text/plain": [
       "   total_bill   tip     sex smoker  day    time  size\n",
       "0       16.99  1.01  Female     No  Sun  Dinner     2\n",
       "1       10.34  1.66    Male     No  Sun  Dinner     3\n",
       "2       21.01  3.50    Male     No  Sun  Dinner     3\n",
       "3       23.68  3.31    Male     No  Sun  Dinner     2\n",
       "4       24.59  3.61  Female     No  Sun  Dinner     4"
      ]
     },
     "execution_count": 33,
     "metadata": {},
     "output_type": "execute_result"
    }
   ],
   "source": [
    "tips.head(5)"
   ]
  },
  {
   "cell_type": "markdown",
   "metadata": {},
   "source": [
    "**Q7**  Use sns.catplot() to visualize the relation between total_bill and sex.\n",
    "* The x-axis will represent sex\n",
    "* The y-axis will represent the total_bill. \n",
    "\n",
    "**A7** Fill in the code cell below "
   ]
  },
  {
   "cell_type": "code",
   "execution_count": 34,
   "metadata": {},
   "outputs": [
    {
     "data": {
      "text/plain": [
       "<seaborn.axisgrid.FacetGrid at 0x11cd92d00>"
      ]
     },
     "execution_count": 34,
     "metadata": {},
     "output_type": "execute_result"
    },
    {
     "data": {
      "image/png": "[encoded data removed]",
      "text/plain": [
       "<Figure size 360x360 with 1 Axes>"
      ]
     },
     "metadata": {
      "needs_background": "light"
     },
     "output_type": "display_data"
    }
   ],
   "source": [
    "#your code goes here\n",
    "\n",
    "sns.catplot(x = \"sex\", y = \"total_bill\", data = tips )"
   ]
  },
  {
   "cell_type": "markdown",
   "metadata": {},
   "source": [
    "**Q8**  Use sns.scatterplot() to visualize the relation between total_bill and tip.      \n",
    "* The x-axis will represent total_bill\n",
    "* The y-axis will represent the tip. \n",
    "\n",
    "**A8** below"
   ]
  },
  {
   "cell_type": "code",
   "execution_count": 35,
   "metadata": {},
   "outputs": [
    {
     "data": {
      "text/plain": [
       "<AxesSubplot:xlabel='total_bill', ylabel='tip'>"
      ]
     },
     "execution_count": 35,
     "metadata": {},
     "output_type": "execute_result"
    },
    {
     "data": {
      "image/png": "[encoded data removed]",
      "text/plain": [
       "<Figure size 432x288 with 1 Axes>"
      ]
     },
     "metadata": {
      "needs_background": "light"
     },
     "output_type": "display_data"
    }
   ],
   "source": [
    "#your code goes here\n",
    "sns.scatterplot(x = \"total_bill\", y = \"tip\", data = tips)"
   ]
  },
  {
   "cell_type": "code",
   "execution_count": null,
   "metadata": {},
   "outputs": [],
   "source": []
  }
 ],
 "metadata": {
  "colab": {
   "collapsed_sections": [],
   "name": "Copy of CS4347-Assignment1-NETID.ipynb",
   "provenance": [
    {
     "file_id": "17Tyt4dPvaHVqT4YhMoxzUwmbICB28X1e",
     "timestamp": 1629391456683
    },
    {
     "file_id": "1BYuCZsD2__tu6Cu1XQsznqbPDsrA1AKl",
     "timestamp": 1611018721283
    },
    {
     "file_id": "14GkPT3sq1sq-_GzehImm9x5AFkzci-bn",
     "timestamp": 1580191220212
    },
    {
     "file_id": "1tr7-Boh7ABQq2FmhitCIDL87lkp6GWbt",
     "timestamp": 1580013441980
    }
   ]
  },
  "interpreter": {
   "hash": "16b88d1544610203bb70d520ead802a3025078c96a9e1f003faf94069083abfd"
  },
  "kernelspec": {
   "display_name": "Python 3",
   "language": "python",
   "name": "python3"
  },
  "language_info": {
   "codemirror_mode": {
    "name": "ipython",
    "version": 3
   },
   "file_extension": ".py",
   "mimetype": "text/x-python",
   "name": "python",
   "nbconvert_exporter": "python",
   "pygments_lexer": "ipython3",
   "version": "3.8.8"
  }
 },
 "nbformat": 4,
 "nbformat_minor": 2
}
